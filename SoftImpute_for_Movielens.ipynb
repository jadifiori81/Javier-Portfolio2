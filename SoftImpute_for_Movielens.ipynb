{
  "cells": [
    {
      "cell_type": "markdown",
      "id": "b3c46e94",
      "metadata": {
        "id": "b3c46e94"
      },
      "source": [
        "#  The MovieLens Dataset\n",
        "\n",
        "[MovieLens](https://movielens.org/) is a non-commercial web-based movie recommender system, created in 1997 by GroupLens, a research lab at the University of Minnesota, in order to gather movie rating data for research purposes.\n",
        "\n",
        "\n",
        "## Getting the Data\n",
        "\n",
        "\n",
        "The MovieLens dataset is hosted by the [GroupLens](https://grouplens.org/datasets/movielens/) website. Several versions are available. We will use the latest smallest dataset released from [link](https://files.grouplens.org/datasets/movielens/ml-latest-small.zip).\n",
        "\n",
        "## Custom Code\n",
        "\n",
        "The custom packages; soft_impute and functionsCF will need to be installed"
      ]
    },
    {
      "cell_type": "code",
      "execution_count": 69,
      "id": "f5x_KMp8fpxo",
      "metadata": {
        "colab": {
          "base_uri": "https://localhost:8080/"
        },
        "id": "f5x_KMp8fpxo",
        "outputId": "042cf757-af14-41b1-db4a-7082265c3e9c"
      },
      "outputs": [
        {
          "name": "stdout",
          "output_type": "stream",
          "text": [
            "Requirement already satisfied: fancyimpute in /usr/local/lib/python3.10/dist-packages (0.7.0)\n",
            "Requirement already satisfied: knnimpute>=0.1.0 in /usr/local/lib/python3.10/dist-packages (from fancyimpute) (0.1.0)\n",
            "Requirement already satisfied: scikit-learn>=0.24.2 in /usr/local/lib/python3.10/dist-packages (from fancyimpute) (1.2.2)\n",
            "Requirement already satisfied: cvxpy in /usr/local/lib/python3.10/dist-packages (from fancyimpute) (1.3.4)\n",
            "Requirement already satisfied: cvxopt in /usr/local/lib/python3.10/dist-packages (from fancyimpute) (1.3.2)\n",
            "Requirement already satisfied: pytest in /usr/local/lib/python3.10/dist-packages (from fancyimpute) (7.4.4)\n",
            "Requirement already satisfied: nose in /usr/local/lib/python3.10/dist-packages (from fancyimpute) (1.3.7)\n",
            "Requirement already satisfied: six in /usr/local/lib/python3.10/dist-packages (from knnimpute>=0.1.0->fancyimpute) (1.16.0)\n",
            "Requirement already satisfied: numpy>=1.10 in /usr/local/lib/python3.10/dist-packages (from knnimpute>=0.1.0->fancyimpute) (1.25.2)\n",
            "Requirement already satisfied: scipy>=1.3.2 in /usr/local/lib/python3.10/dist-packages (from scikit-learn>=0.24.2->fancyimpute) (1.11.4)\n",
            "Requirement already satisfied: joblib>=1.1.1 in /usr/local/lib/python3.10/dist-packages (from scikit-learn>=0.24.2->fancyimpute) (1.4.2)\n",
            "Requirement already satisfied: threadpoolctl>=2.0.0 in /usr/local/lib/python3.10/dist-packages (from scikit-learn>=0.24.2->fancyimpute) (3.5.0)\n",
            "Requirement already satisfied: osqp>=0.4.1 in /usr/local/lib/python3.10/dist-packages (from cvxpy->fancyimpute) (0.6.2.post8)\n",
            "Requirement already satisfied: ecos>=2 in /usr/local/lib/python3.10/dist-packages (from cvxpy->fancyimpute) (2.0.14)\n",
            "Requirement already satisfied: scs>=1.1.6 in /usr/local/lib/python3.10/dist-packages (from cvxpy->fancyimpute) (3.2.4.post2)\n",
            "Requirement already satisfied: setuptools>65.5.1 in /usr/local/lib/python3.10/dist-packages (from cvxpy->fancyimpute) (67.7.2)\n",
            "Requirement already satisfied: iniconfig in /usr/local/lib/python3.10/dist-packages (from pytest->fancyimpute) (2.0.0)\n",
            "Requirement already satisfied: packaging in /usr/local/lib/python3.10/dist-packages (from pytest->fancyimpute) (24.1)\n",
            "Requirement already satisfied: pluggy<2.0,>=0.12 in /usr/local/lib/python3.10/dist-packages (from pytest->fancyimpute) (1.5.0)\n",
            "Requirement already satisfied: exceptiongroup>=1.0.0rc8 in /usr/local/lib/python3.10/dist-packages (from pytest->fancyimpute) (1.2.1)\n",
            "Requirement already satisfied: tomli>=1.0.0 in /usr/local/lib/python3.10/dist-packages (from pytest->fancyimpute) (2.0.1)\n",
            "Requirement already satisfied: qdldl in /usr/local/lib/python3.10/dist-packages (from osqp>=0.4.1->cvxpy->fancyimpute) (0.1.7.post3)\n",
            "Requirement already satisfied: numpy in /usr/local/lib/python3.10/dist-packages (1.25.2)\n",
            "Requirement already satisfied: pandas in /usr/local/lib/python3.10/dist-packages (2.0.3)\n",
            "Requirement already satisfied: python-dateutil>=2.8.2 in /usr/local/lib/python3.10/dist-packages (from pandas) (2.8.2)\n",
            "Requirement already satisfied: pytz>=2020.1 in /usr/local/lib/python3.10/dist-packages (from pandas) (2023.4)\n",
            "Requirement already satisfied: tzdata>=2022.1 in /usr/local/lib/python3.10/dist-packages (from pandas) (2024.1)\n",
            "Requirement already satisfied: numpy>=1.21.0 in /usr/local/lib/python3.10/dist-packages (from pandas) (1.25.2)\n",
            "Requirement already satisfied: six>=1.5 in /usr/local/lib/python3.10/dist-packages (from python-dateutil>=2.8.2->pandas) (1.16.0)\n",
            "\u001b[31mERROR: Could not find a version that satisfies the requirement SoftImpute (from versions: none)\u001b[0m\u001b[31m\n",
            "\u001b[0m\u001b[31mERROR: No matching distribution found for SoftImpute\u001b[0m\u001b[31m\n",
            "\u001b[0m"
          ]
        }
      ],
      "source": [
        "# Install the standard papackages\n",
        "!pip install fancyimpute\n",
        "!pip install numpy\n",
        "!pip install pandas\n",
        "!pip install SoftImpute"
      ]
    },
    {
      "cell_type": "code",
      "execution_count": 77,
      "id": "3xfKQPZSwLGI",
      "metadata": {
        "id": "3xfKQPZSwLGI"
      },
      "outputs": [],
      "source": [
        "import numpy as np\n",
        "import pandas as pd\n",
        "from fancyimpute import BiScaler\n",
        "from soft_impute import SoftImpute\n",
        "from functionsCF import GenerateTrainingSet"
      ]
    },
    {
      "cell_type": "markdown",
      "id": "cA4Pv9fGpe19",
      "metadata": {
        "id": "cA4Pv9fGpe19"
      },
      "source": [
        "Google Collab Connection to Google Drive: External data: Local Files, Drive, Sheets, and Cloud Storage\n",
        "https://colab.research.google.com/notebooks/io.ipynb"
      ]
    },
    {
      "cell_type": "markdown",
      "id": "40bbbdd4",
      "metadata": {
        "id": "40bbbdd4"
      },
      "source": [
        "## Create the incomplete matrices for training and testing"
      ]
    },
    {
      "cell_type": "code",
      "execution_count": 40,
      "id": "Vsbz4zO0j7DB",
      "metadata": {
        "colab": {
          "base_uri": "https://localhost:8080/",
          "height": 206
        },
        "id": "Vsbz4zO0j7DB",
        "outputId": "7c08c198-a784-4aac-f279-8eb8ac582656"
      },
      "outputs": [
        {
          "data": {
            "application/vnd.google.colaboratory.intrinsic+json": {
              "type": "dataframe",
              "variable_name": "rating_df"
            },
            "text/html": [
              "\n",
              "  <div id=\"df-f7bed557-1a60-425f-8eed-66979a42fd57\" class=\"colab-df-container\">\n",
              "    <div>\n",
              "<style scoped>\n",
              "    .dataframe tbody tr th:only-of-type {\n",
              "        vertical-align: middle;\n",
              "    }\n",
              "\n",
              "    .dataframe tbody tr th {\n",
              "        vertical-align: top;\n",
              "    }\n",
              "\n",
              "    .dataframe thead th {\n",
              "        text-align: right;\n",
              "    }\n",
              "</style>\n",
              "<table border=\"1\" class=\"dataframe\">\n",
              "  <thead>\n",
              "    <tr style=\"text-align: right;\">\n",
              "      <th></th>\n",
              "      <th>userID</th>\n",
              "      <th>songID</th>\n",
              "      <th>rating</th>\n",
              "    </tr>\n",
              "  </thead>\n",
              "  <tbody>\n",
              "    <tr>\n",
              "      <th>0</th>\n",
              "      <td>526</td>\n",
              "      <td>80</td>\n",
              "      <td>1.477121</td>\n",
              "    </tr>\n",
              "    <tr>\n",
              "      <th>1</th>\n",
              "      <td>1403</td>\n",
              "      <td>54</td>\n",
              "      <td>2.204120</td>\n",
              "    </tr>\n",
              "    <tr>\n",
              "      <th>2</th>\n",
              "      <td>556</td>\n",
              "      <td>80</td>\n",
              "      <td>1.301030</td>\n",
              "    </tr>\n",
              "    <tr>\n",
              "      <th>3</th>\n",
              "      <td>1036</td>\n",
              "      <td>54</td>\n",
              "      <td>1.477121</td>\n",
              "    </tr>\n",
              "    <tr>\n",
              "      <th>4</th>\n",
              "      <td>2352</td>\n",
              "      <td>80</td>\n",
              "      <td>1.301030</td>\n",
              "    </tr>\n",
              "  </tbody>\n",
              "</table>\n",
              "</div>\n",
              "    <div class=\"colab-df-buttons\">\n",
              "\n",
              "  <div class=\"colab-df-container\">\n",
              "    <button class=\"colab-df-convert\" onclick=\"convertToInteractive('df-f7bed557-1a60-425f-8eed-66979a42fd57')\"\n",
              "            title=\"Convert this dataframe to an interactive table.\"\n",
              "            style=\"display:none;\">\n",
              "\n",
              "  <svg xmlns=\"http://www.w3.org/2000/svg\" height=\"24px\" viewBox=\"0 -960 960 960\">\n",
              "    <path d=\"M120-120v-720h720v720H120Zm60-500h600v-160H180v160Zm220 220h160v-160H400v160Zm0 220h160v-160H400v160ZM180-400h160v-160H180v160Zm440 0h160v-160H620v160ZM180-180h160v-160H180v160Zm440 0h160v-160H620v160Z\"/>\n",
              "  </svg>\n",
              "    </button>\n",
              "\n",
              "  <style>\n",
              "    .colab-df-container {\n",
              "      display:flex;\n",
              "      gap: 12px;\n",
              "    }\n",
              "\n",
              "    .colab-df-convert {\n",
              "      background-color: #E8F0FE;\n",
              "      border: none;\n",
              "      border-radius: 50%;\n",
              "      cursor: pointer;\n",
              "      display: none;\n",
              "      fill: #1967D2;\n",
              "      height: 32px;\n",
              "      padding: 0 0 0 0;\n",
              "      width: 32px;\n",
              "    }\n",
              "\n",
              "    .colab-df-convert:hover {\n",
              "      background-color: #E2EBFA;\n",
              "      box-shadow: 0px 1px 2px rgba(60, 64, 67, 0.3), 0px 1px 3px 1px rgba(60, 64, 67, 0.15);\n",
              "      fill: #174EA6;\n",
              "    }\n",
              "\n",
              "    .colab-df-buttons div {\n",
              "      margin-bottom: 4px;\n",
              "    }\n",
              "\n",
              "    [theme=dark] .colab-df-convert {\n",
              "      background-color: #3B4455;\n",
              "      fill: #D2E3FC;\n",
              "    }\n",
              "\n",
              "    [theme=dark] .colab-df-convert:hover {\n",
              "      background-color: #434B5C;\n",
              "      box-shadow: 0px 1px 3px 1px rgba(0, 0, 0, 0.15);\n",
              "      filter: drop-shadow(0px 1px 2px rgba(0, 0, 0, 0.3));\n",
              "      fill: #FFFFFF;\n",
              "    }\n",
              "  </style>\n",
              "\n",
              "    <script>\n",
              "      const buttonEl =\n",
              "        document.querySelector('#df-f7bed557-1a60-425f-8eed-66979a42fd57 button.colab-df-convert');\n",
              "      buttonEl.style.display =\n",
              "        google.colab.kernel.accessAllowed ? 'block' : 'none';\n",
              "\n",
              "      async function convertToInteractive(key) {\n",
              "        const element = document.querySelector('#df-f7bed557-1a60-425f-8eed-66979a42fd57');\n",
              "        const dataTable =\n",
              "          await google.colab.kernel.invokeFunction('convertToInteractive',\n",
              "                                                    [key], {});\n",
              "        if (!dataTable) return;\n",
              "\n",
              "        const docLinkHtml = 'Like what you see? Visit the ' +\n",
              "          '<a target=\"_blank\" href=https://colab.research.google.com/notebooks/data_table.ipynb>data table notebook</a>'\n",
              "          + ' to learn more about interactive tables.';\n",
              "        element.innerHTML = '';\n",
              "        dataTable['output_type'] = 'display_data';\n",
              "        await google.colab.output.renderOutput(dataTable, element);\n",
              "        const docLink = document.createElement('div');\n",
              "        docLink.innerHTML = docLinkHtml;\n",
              "        element.appendChild(docLink);\n",
              "      }\n",
              "    </script>\n",
              "  </div>\n",
              "\n",
              "\n",
              "<div id=\"df-520c83f3-f51a-42ef-99b5-8b0f76f37d57\">\n",
              "  <button class=\"colab-df-quickchart\" onclick=\"quickchart('df-520c83f3-f51a-42ef-99b5-8b0f76f37d57')\"\n",
              "            title=\"Suggest charts\"\n",
              "            style=\"display:none;\">\n",
              "\n",
              "<svg xmlns=\"http://www.w3.org/2000/svg\" height=\"24px\"viewBox=\"0 0 24 24\"\n",
              "     width=\"24px\">\n",
              "    <g>\n",
              "        <path d=\"M19 3H5c-1.1 0-2 .9-2 2v14c0 1.1.9 2 2 2h14c1.1 0 2-.9 2-2V5c0-1.1-.9-2-2-2zM9 17H7v-7h2v7zm4 0h-2V7h2v10zm4 0h-2v-4h2v4z\"/>\n",
              "    </g>\n",
              "</svg>\n",
              "  </button>\n",
              "\n",
              "<style>\n",
              "  .colab-df-quickchart {\n",
              "      --bg-color: #E8F0FE;\n",
              "      --fill-color: #1967D2;\n",
              "      --hover-bg-color: #E2EBFA;\n",
              "      --hover-fill-color: #174EA6;\n",
              "      --disabled-fill-color: #AAA;\n",
              "      --disabled-bg-color: #DDD;\n",
              "  }\n",
              "\n",
              "  [theme=dark] .colab-df-quickchart {\n",
              "      --bg-color: #3B4455;\n",
              "      --fill-color: #D2E3FC;\n",
              "      --hover-bg-color: #434B5C;\n",
              "      --hover-fill-color: #FFFFFF;\n",
              "      --disabled-bg-color: #3B4455;\n",
              "      --disabled-fill-color: #666;\n",
              "  }\n",
              "\n",
              "  .colab-df-quickchart {\n",
              "    background-color: var(--bg-color);\n",
              "    border: none;\n",
              "    border-radius: 50%;\n",
              "    cursor: pointer;\n",
              "    display: none;\n",
              "    fill: var(--fill-color);\n",
              "    height: 32px;\n",
              "    padding: 0;\n",
              "    width: 32px;\n",
              "  }\n",
              "\n",
              "  .colab-df-quickchart:hover {\n",
              "    background-color: var(--hover-bg-color);\n",
              "    box-shadow: 0 1px 2px rgba(60, 64, 67, 0.3), 0 1px 3px 1px rgba(60, 64, 67, 0.15);\n",
              "    fill: var(--button-hover-fill-color);\n",
              "  }\n",
              "\n",
              "  .colab-df-quickchart-complete:disabled,\n",
              "  .colab-df-quickchart-complete:disabled:hover {\n",
              "    background-color: var(--disabled-bg-color);\n",
              "    fill: var(--disabled-fill-color);\n",
              "    box-shadow: none;\n",
              "  }\n",
              "\n",
              "  .colab-df-spinner {\n",
              "    border: 2px solid var(--fill-color);\n",
              "    border-color: transparent;\n",
              "    border-bottom-color: var(--fill-color);\n",
              "    animation:\n",
              "      spin 1s steps(1) infinite;\n",
              "  }\n",
              "\n",
              "  @keyframes spin {\n",
              "    0% {\n",
              "      border-color: transparent;\n",
              "      border-bottom-color: var(--fill-color);\n",
              "      border-left-color: var(--fill-color);\n",
              "    }\n",
              "    20% {\n",
              "      border-color: transparent;\n",
              "      border-left-color: var(--fill-color);\n",
              "      border-top-color: var(--fill-color);\n",
              "    }\n",
              "    30% {\n",
              "      border-color: transparent;\n",
              "      border-left-color: var(--fill-color);\n",
              "      border-top-color: var(--fill-color);\n",
              "      border-right-color: var(--fill-color);\n",
              "    }\n",
              "    40% {\n",
              "      border-color: transparent;\n",
              "      border-right-color: var(--fill-color);\n",
              "      border-top-color: var(--fill-color);\n",
              "    }\n",
              "    60% {\n",
              "      border-color: transparent;\n",
              "      border-right-color: var(--fill-color);\n",
              "    }\n",
              "    80% {\n",
              "      border-color: transparent;\n",
              "      border-right-color: var(--fill-color);\n",
              "      border-bottom-color: var(--fill-color);\n",
              "    }\n",
              "    90% {\n",
              "      border-color: transparent;\n",
              "      border-bottom-color: var(--fill-color);\n",
              "    }\n",
              "  }\n",
              "</style>\n",
              "\n",
              "  <script>\n",
              "    async function quickchart(key) {\n",
              "      const quickchartButtonEl =\n",
              "        document.querySelector('#' + key + ' button');\n",
              "      quickchartButtonEl.disabled = true;  // To prevent multiple clicks.\n",
              "      quickchartButtonEl.classList.add('colab-df-spinner');\n",
              "      try {\n",
              "        const charts = await google.colab.kernel.invokeFunction(\n",
              "            'suggestCharts', [key], {});\n",
              "      } catch (error) {\n",
              "        console.error('Error during call to suggestCharts:', error);\n",
              "      }\n",
              "      quickchartButtonEl.classList.remove('colab-df-spinner');\n",
              "      quickchartButtonEl.classList.add('colab-df-quickchart-complete');\n",
              "    }\n",
              "    (() => {\n",
              "      let quickchartButtonEl =\n",
              "        document.querySelector('#df-520c83f3-f51a-42ef-99b5-8b0f76f37d57 button');\n",
              "      quickchartButtonEl.style.display =\n",
              "        google.colab.kernel.accessAllowed ? 'block' : 'none';\n",
              "    })();\n",
              "  </script>\n",
              "</div>\n",
              "\n",
              "    </div>\n",
              "  </div>\n"
            ],
            "text/plain": [
              "   userID  songID    rating\n",
              "0     526      80  1.477121\n",
              "1    1403      54  2.204120\n",
              "2     556      80  1.301030\n",
              "3    1036      54  1.477121\n",
              "4    2352      80  1.301030"
            ]
          },
          "execution_count": 40,
          "metadata": {},
          "output_type": "execute_result"
        }
      ],
      "source": [
        "# Read movielens data from files- point to where data is stored, small set of Movielens dataset\n",
        "# 100836 (rows), userId\tmovieId\trating\ttimestamp (columns).\n",
        "# Using smaller dataset rather than the full dataset to speed performance.\n",
        "# Your results may vary depending on which Movielens data set is used; Several are available online\n",
        "# read in values only\n",
        "rating = pd.read_csv('MusicRatings.csv', sep=',').values\n",
        "\n",
        "rating_df=pd.read_csv ('MusicRatings.csv', sep=',')\n",
        "rating_df.head()\n"
      ]
    },
    {
      "cell_type": "code",
      "execution_count": null,
      "id": "rmvfG-3cwKHg",
      "metadata": {
        "id": "rmvfG-3cwKHg"
      },
      "outputs": [],
      "source": []
    },
    {
      "cell_type": "code",
      "execution_count": 15,
      "id": "a-i471csu_K3",
      "metadata": {
        "colab": {
          "base_uri": "https://localhost:8080/"
        },
        "id": "a-i471csu_K3",
        "outputId": "05daf56f-14cb-42ba-94e6-a65bc95abd4d"
      },
      "outputs": [
        {
          "name": "stdout",
          "output_type": "stream",
          "text": [
            "[[5.26000000e+02 8.00000000e+01 1.47712125e+00]\n",
            " [1.40300000e+03 5.40000000e+01 2.20411998e+00]\n",
            " [5.56000000e+02 8.00000000e+01 1.30103000e+00]\n",
            " [1.03600000e+03 5.40000000e+01 1.47712125e+00]\n",
            " [2.35200000e+03 8.00000000e+01 1.30103000e+00]]\n"
          ]
        }
      ],
      "source": [
        "#show top 5 rows\n",
        "print(rating[:5, :])"
      ]
    },
    {
      "cell_type": "code",
      "execution_count": 19,
      "id": "b23d947b",
      "metadata": {
        "colab": {
          "base_uri": "https://localhost:8080/"
        },
        "id": "b23d947b",
        "outputId": "c572f2a1-cbae-4265-8fcc-b32579bcd5c5"
      },
      "outputs": [
        {
          "data": {
            "text/plain": [
              "array([[0., 0., 0., ..., 0., 0., 0.],\n",
              "       [0., 0., 0., ..., 0., 0., 0.],\n",
              "       [0., 0., 0., ..., 0., 0., 0.],\n",
              "       ...,\n",
              "       [0., 0., 0., ..., 0., 0., 0.],\n",
              "       [0., 0., 0., ..., 0., 0., 0.],\n",
              "       [0., 0., 0., ..., 0., 0., 0.]])"
            ]
          },
          "execution_count": 19,
          "metadata": {},
          "output_type": "execute_result"
        }
      ],
      "source": [
        "# Use all known information to create the incomplete matrix\n",
        "\n",
        "# First, create an empty matrix\n",
        "matrix_incomplete = np.zeros((len(np.unique(rating[:,0])), len(np.unique(rating[:,1]))))\n",
        "matrix_incomplete\n",
        "\n",
        "\n",
        "\n",
        "\n",
        "\n"
      ]
    },
    {
      "cell_type": "code",
      "execution_count": 30,
      "id": "RgGHxpKdqjd6",
      "metadata": {
        "colab": {
          "base_uri": "https://localhost:8080/"
        },
        "id": "RgGHxpKdqjd6",
        "outputId": "8611c75c-55b0-43ad-f9b1-56dedb62bf31"
      },
      "outputs": [
        {
          "name": "stdout",
          "output_type": "stream",
          "text": [
            "[[5.26000000e+02 8.00000000e+01 1.47712125e+00]\n",
            " [1.40300000e+03 5.40000000e+01 2.20411998e+00]\n",
            " [5.56000000e+02 8.00000000e+01 1.30103000e+00]\n",
            " ...\n",
            " [3.84000000e+02 6.57000000e+02 1.00000000e+00]\n",
            " [2.30000000e+02 6.57000000e+02 1.00000000e+00]\n",
            " [1.38500000e+03 6.15000000e+02 1.00000000e+00]]\n"
          ]
        }
      ],
      "source": [
        "# Second, Since some movies don't have any ratings, we only use the movies that have ratings.\n",
        "# Here we correspondingly change the movie IDs to make each column has ratings.\n",
        "# create an array of all movie IDs\n",
        "usedID = np.unique(rating[:, 1])\n",
        "# replace the movie IDs by the their positions in the array we just created\n",
        "for i in range(len(rating[:,1])):\n",
        "    rating[:,1][i] = np.where(usedID==rating[:,1][i])[0][0] + 1\n",
        "print (rating)"
      ]
    },
    {
      "cell_type": "code",
      "execution_count": 31,
      "id": "vr1Ve1Oaqis7",
      "metadata": {
        "colab": {
          "base_uri": "https://localhost:8080/"
        },
        "id": "vr1Ve1Oaqis7",
        "outputId": "b3a6c8b2-021f-4ac5-9873-c1538267e649"
      },
      "outputs": [
        {
          "data": {
            "text/plain": [
              "array([[nan, nan, nan, ..., nan, nan, nan],\n",
              "       [nan, nan, nan, ..., nan, nan, nan],\n",
              "       [nan, nan, nan, ..., nan, nan, nan],\n",
              "       ...,\n",
              "       [nan, nan, nan, ..., nan, nan, nan],\n",
              "       [nan, nan, nan, ..., nan, nan, nan],\n",
              "       [nan, nan, nan, ..., nan, nan, nan]])"
            ]
          },
          "execution_count": 31,
          "metadata": {},
          "output_type": "execute_result"
        }
      ],
      "source": [
        "# Finally, we construct the incomplete matrix, on which the incomplete components are nan by\n",
        "# default.\n",
        "# all components are nan by default\n",
        "matrix_incomplete[:] = np.nan\n",
        "matrix_incomplete\n",
        "\n",
        "\n"
      ]
    },
    {
      "cell_type": "code",
      "execution_count": 41,
      "id": "oTdMnV7ytZca",
      "metadata": {
        "colab": {
          "base_uri": "https://localhost:8080/"
        },
        "id": "oTdMnV7ytZca",
        "outputId": "6e9cf649-fc0f-49d4-b26c-46041e290b8f"
      },
      "outputs": [
        {
          "name": "stdout",
          "output_type": "stream",
          "text": [
            "(array([ 525, 1402,  555, ...,  383,  229, 1384]), array([ 79,  53,  79, ..., 656, 656, 614]))\n"
          ]
        }
      ],
      "source": [
        "\n",
        "# create the index pair of the components with ratings\n",
        "indices = np.array(rating[:,0] - 1).astype(int), np.array(rating[:,1] - 1).astype(int)\n",
        "print (indices)"
      ]
    },
    {
      "cell_type": "code",
      "execution_count": 42,
      "id": "ZTxerPFltZnA",
      "metadata": {
        "colab": {
          "base_uri": "https://localhost:8080/"
        },
        "id": "ZTxerPFltZnA",
        "outputId": "98e67512-842d-4cb6-e792-551a97adeb26"
      },
      "outputs": [
        {
          "data": {
            "text/plain": [
              "array([[       nan,        nan,        nan, ...,        nan,        nan,\n",
              "               nan],\n",
              "       [       nan, 1.60205999,        nan, ...,        nan,        nan,\n",
              "               nan],\n",
              "       [       nan,        nan,        nan, ..., 1.        ,        nan,\n",
              "               nan],\n",
              "       ...,\n",
              "       [       nan,        nan,        nan, ...,        nan, 1.        ,\n",
              "               nan],\n",
              "       [       nan,        nan,        nan, ...,        nan,        nan,\n",
              "               nan],\n",
              "       [       nan, 1.30103   , 1.30103   , ...,        nan,        nan,\n",
              "               nan]])"
            ]
          },
          "execution_count": 42,
          "metadata": {},
          "output_type": "execute_result"
        }
      ],
      "source": [
        "\n",
        "# change the values in the corresponding positions to the known rating information\n",
        "matrix_incomplete[indices] = rating[:,2]\n",
        "matrix_incomplete"
      ]
    },
    {
      "cell_type": "markdown",
      "id": "UFO5L_X2qE3Y",
      "metadata": {
        "id": "UFO5L_X2qE3Y"
      },
      "source": [
        "# New Section"
      ]
    },
    {
      "cell_type": "code",
      "execution_count": 54,
      "id": "2f54b0e6",
      "metadata": {
        "colab": {
          "base_uri": "https://localhost:8080/"
        },
        "id": "2f54b0e6",
        "outputId": "21b336d3-127e-4f38-eebe-1b26ded1e8e9"
      },
      "outputs": [
        {
          "name": "stdout",
          "output_type": "stream",
          "text": [
            "(array([1582,  695,  581, ..., 1679,  484, 1384]), array([ 53,  79,  79, ..., 656, 209, 614]))\n"
          ]
        }
      ],
      "source": [
        "# Obtain the index pairs of the training set and the validation set, with ratio 70%\n",
        "train_indices, validation_indices = GenerateTrainingSet(rating[:,0], rating[:,1], 0.70)\n",
        "print (validation_indices)\n",
        "\n"
      ]
    },
    {
      "cell_type": "code",
      "execution_count": 58,
      "id": "3-vqo6rtvyNI",
      "metadata": {
        "colab": {
          "base_uri": "https://localhost:8080/"
        },
        "id": "3-vqo6rtvyNI",
        "outputId": "a79d5ebc-e45e-449e-ad47-115371c1de16"
      },
      "outputs": [
        {
          "name": "stdout",
          "output_type": "stream",
          "text": [
            "(array([   0,    0,    0, ..., 2420, 2420, 2420]), array([  9,  24,  25, ..., 790, 798, 803]))\n",
            "[[       nan        nan        nan ...        nan        nan        nan]\n",
            " [       nan 1.60205999        nan ...        nan        nan        nan]\n",
            " [       nan        nan        nan ...        nan        nan        nan]\n",
            " ...\n",
            " [       nan        nan        nan ...        nan 1.                nan]\n",
            " [       nan        nan        nan ...        nan        nan        nan]\n",
            " [       nan        nan        nan ...        nan        nan        nan]]\n"
          ]
        }
      ],
      "source": [
        "# And then use the index pairs to create the incomplete training test\n",
        "matrix_train = matrix_incomplete.copy()\n",
        "matrix_train[:] = np.nan\n",
        "matrix_train[train_indices] = matrix_incomplete[train_indices]\n"
      ]
    },
    {
      "cell_type": "markdown",
      "id": "69a998c9",
      "metadata": {
        "id": "69a998c9"
      },
      "source": [
        "##  Run the softImpute model for collaborative filtering"
      ]
    },
    {
      "cell_type": "code",
      "execution_count": 61,
      "id": "0d16d1db",
      "metadata": {
        "colab": {
          "base_uri": "https://localhost:8080/"
        },
        "id": "0d16d1db",
        "outputId": "012fd37d-15dd-446f-f6d6-3808facd1a05"
      },
      "outputs": [
        {
          "name": "stdout",
          "output_type": "stream",
          "text": [
            "[[        nan         nan         nan ...         nan         nan\n",
            "          nan]\n",
            " [        nan  0.1864106          nan ...         nan         nan\n",
            "          nan]\n",
            " [        nan         nan         nan ...         nan         nan\n",
            "          nan]\n",
            " ...\n",
            " [        nan         nan         nan ...         nan -0.07178043\n",
            "          nan]\n",
            " [        nan         nan         nan ...         nan         nan\n",
            "          nan]\n",
            " [        nan         nan         nan ...         nan         nan\n",
            "          nan]]\n"
          ]
        }
      ],
      "source": [
        "# Create the BiScaler model\n",
        "biscaler = BiScaler(scale_rows=False, scale_columns=False, max_iters=50, verbose=False)\n",
        "# Rescale both rows and columns to have zero mean\n",
        "matrix_train_normalized = biscaler.fit_transform(matrix_train)\n",
        "print (matrix_train_normalized)"
      ]
    },
    {
      "cell_type": "code",
      "execution_count": 79,
      "id": "ae5de031",
      "metadata": {
        "colab": {
          "base_uri": "https://localhost:8080/"
        },
        "id": "ae5de031",
        "outputId": "15950d97-7ed9-4039-c987-83e53331fabc"
      },
      "outputs": [
        {
          "name": "stdout",
          "output_type": "stream",
          "text": [
            "<class 'soft_impute.SoftImpute'>\n"
          ]
        }
      ],
      "source": [
        "# Use softImpute to complete the matrix. J means the number of archetypes and rand_seed means the\n",
        "# seed for the inner random number generator, verbose control whether outputting algorithm logs.\n",
        "softImpute = SoftImpute(J = 6, maxit = 200, random_seed = 2033, verbose = False)\n",
        "print (SoftImpute)"
      ]
    },
    {
      "cell_type": "code",
      "execution_count": 81,
      "id": "19484161",
      "metadata": {
        "colab": {
          "base_uri": "https://localhost:8080/"
        },
        "id": "19484161",
        "outputId": "8191b40e-6a6a-4961-c15d-58a99e247a2e"
      },
      "outputs": [
        {
          "name": "stdout",
          "output_type": "stream",
          "text": [
            "[[1.21600715 1.25536518 1.47212232 ... 1.31485753 1.18089782 1.2353703 ]\n",
            " [1.24899258 1.57515599 1.21975061 ... 1.41316361 1.49086655 1.42795362]\n",
            " [1.03132676 1.05681022 1.16823105 ... 1.12959944 1.04616418 1.02319846]\n",
            " ...\n",
            " [0.97755768 1.10467214 1.13896602 ... 1.13068744 1.13790166 1.13589428]\n",
            " [1.02558976 1.54378419 1.03825976 ... 1.08339341 1.05776299 1.02531032]\n",
            " [1.10799479 0.95611052 1.37710849 ... 1.16695131 0.9672538  0.98262133]]\n"
          ]
        }
      ],
      "source": [
        "# Run the softImpute model on the normalized training set\n",
        "matrix_train_softImpute = softImpute.fit(matrix_train_normalized)\n",
        "# Use the softImpute model to create the predicted matrix. If we set copyto as True, then it\n",
        "# directly change the value of matrix_train_normalized\n",
        "matrix_train_filled_normalized = matrix_train_softImpute.predict(matrix_train_normalized, copyto = False)\n",
        "# Inverse transformation to undo the scaling\n",
        "matrix_train_filled = biscaler.inverse_transform(matrix_train_filled_normalized)\n",
        "print(matrix_train_filled)"
      ]
    },
    {
      "cell_type": "markdown",
      "id": "9481eb67",
      "metadata": {
        "id": "9481eb67"
      },
      "source": [
        "## Analysis of the predicted ratings"
      ]
    },
    {
      "cell_type": "markdown",
      "id": "988d616f",
      "metadata": {
        "id": "988d616f"
      },
      "source": [
        "### Out-of-sample R^2"
      ]
    },
    {
      "cell_type": "code",
      "execution_count": 82,
      "id": "a097cfe2",
      "metadata": {
        "id": "a097cfe2"
      },
      "outputs": [],
      "source": [
        "# Create the baseline method\n",
        "train_average = np.average(matrix_train[train_indices])"
      ]
    },
    {
      "cell_type": "code",
      "execution_count": 83,
      "id": "d89639dd",
      "metadata": {
        "colab": {
          "base_uri": "https://localhost:8080/"
        },
        "id": "d89639dd",
        "outputId": "ef9792df-f328-409a-e6fa-4d406e181834"
      },
      "outputs": [
        {
          "name": "stdout",
          "output_type": "stream",
          "text": [
            "out-of-sample R2: 0.2150, in-sample R2: 0.5005.\n"
          ]
        }
      ],
      "source": [
        "# Calculate out-of-sample R2 and in-sample R2\n",
        "# Your results may vary from the lesson due to datasize and training test split.\n",
        "validation_mse = ((matrix_train_filled[validation_indices] - matrix_incomplete[validation_indices]) ** 2).mean()\n",
        "training_mse = ((matrix_train_filled[train_indices] - matrix_incomplete[train_indices]) ** 2).mean()\n",
        "validation_mse_baseline = ((train_average - matrix_incomplete[validation_indices]) ** 2).mean()\n",
        "training_mse_baseline = ((train_average - matrix_incomplete[train_indices]) ** 2).mean()\n",
        "print(\"out-of-sample R2: %.4f, in-sample R2: %.4f.\" % (1 - validation_mse / validation_mse_baseline, 1 - training_mse / training_mse_baseline))"
      ]
    },
    {
      "cell_type": "markdown",
      "id": "d09890c5",
      "metadata": {
        "id": "d09890c5"
      },
      "source": [
        "### Get low-rank factors"
      ]
    },
    {
      "cell_type": "code",
      "execution_count": 84,
      "id": "78125afd",
      "metadata": {
        "colab": {
          "base_uri": "https://localhost:8080/"
        },
        "id": "78125afd",
        "outputId": "b3340240-46c8-4a24-866e-226ff0ebbbf9"
      },
      "outputs": [
        {
          "data": {
            "text/plain": [
              "array([[ 0.01130268, -0.01256651, -0.01176304, -0.00257681, -0.03984453,\n",
              "         0.00707466],\n",
              "       [ 0.01865882,  0.05297988,  0.07543221, -0.06974131,  0.02040987,\n",
              "         0.00126844],\n",
              "       [-0.00107772, -0.03433519,  0.03403756,  0.06043389, -0.00542998,\n",
              "         0.01011918],\n",
              "       ...,\n",
              "       [-0.01658398, -0.02744602, -0.04068087, -0.0075534 , -0.01531666,\n",
              "         0.01506819],\n",
              "       [ 0.02519679,  0.02045499, -0.01701742, -0.03988662,  0.02134648,\n",
              "         0.02375562],\n",
              "       [ 0.00631929,  0.01641358, -0.00362012, -0.0124506 ,  0.02893854,\n",
              "         0.00803139]])"
            ]
          },
          "execution_count": 84,
          "metadata": {},
          "output_type": "execute_result"
        }
      ],
      "source": [
        "# Obtain the ratings of each archetype\n",
        "# Each row of this matrix corresponds to a song and each column corresponds to an archetype\n",
        "softImpute.v"
      ]
    },
    {
      "cell_type": "code",
      "execution_count": null,
      "id": "1c37024e",
      "metadata": {
        "colab": {
          "base_uri": "https://localhost:8080/"
        },
        "id": "1c37024e",
        "outputId": "0e4e1c3f-d785-4171-f3b4-403aae3fbc1c"
      },
      "outputs": [
        {
          "data": {
            "text/plain": [
              "(9724, 4)"
            ]
          },
          "execution_count": 59,
          "metadata": {},
          "output_type": "execute_result"
        }
      ],
      "source": [
        "softImpute.v.shape"
      ]
    },
    {
      "cell_type": "code",
      "execution_count": 85,
      "id": "6250e638",
      "metadata": {
        "colab": {
          "base_uri": "https://localhost:8080/"
        },
        "id": "6250e638",
        "outputId": "030bf694-e980-481d-a289-c6dab706d016"
      },
      "outputs": [
        {
          "data": {
            "text/plain": [
              "array([[-1.082249  ,  1.95312619, -0.13735242,  1.85026885, -1.0425069 ,\n",
              "         0.16457664],\n",
              "       [ 0.41676406,  1.64198837, -1.67650686, -2.45048942,  1.1105772 ,\n",
              "        -1.86570826],\n",
              "       [ 0.83833701,  0.39334791, -0.77961523,  0.15377589, -0.80815855,\n",
              "        -0.2096459 ],\n",
              "       ...,\n",
              "       [ 0.69027674,  1.70456985, -1.71644108,  0.56458211,  1.22690352,\n",
              "        -0.80059785],\n",
              "       [-2.76818097,  2.07274528,  2.43900735, -3.3481815 , -2.55072249,\n",
              "         0.0824649 ],\n",
              "       [ 1.49001277, -1.61773043,  0.12825277,  1.42889455, -1.54180159,\n",
              "        -0.26881193]])"
            ]
          },
          "execution_count": 85,
          "metadata": {},
          "output_type": "execute_result"
        }
      ],
      "source": [
        "# (Optional)\n",
        "# Obtain the weights of archetypes of each user\n",
        "# each row of this matrix corresponds to a user and each column corresponds to an archetype\n",
        "weights = np.dot(softImpute.u, np.diagflat(softImpute.d).T)\n",
        "weights"
      ]
    },
    {
      "cell_type": "code",
      "execution_count": 86,
      "id": "c3dd121c",
      "metadata": {
        "colab": {
          "base_uri": "https://localhost:8080/"
        },
        "id": "c3dd121c",
        "outputId": "73794d10-bfb7-4703-ccee-d996cb75fa25"
      },
      "outputs": [
        {
          "data": {
            "text/plain": [
              "(2421, 6)"
            ]
          },
          "execution_count": 86,
          "metadata": {},
          "output_type": "execute_result"
        }
      ],
      "source": [
        "weights.shape"
      ]
    },
    {
      "cell_type": "code",
      "execution_count": 88,
      "id": "cf2f7437",
      "metadata": {
        "colab": {
          "base_uri": "https://localhost:8080/"
        },
        "id": "cf2f7437",
        "outputId": "8c86a0f1-fc4e-43e1-f386-f562b39ffd76"
      },
      "outputs": [
        {
          "name": "stdout",
          "output_type": "stream",
          "text": [
            "[[ 0.00277411 -0.07718673  0.04857538 ... -0.02559816 -0.07712584\n",
            "  -0.02616783]\n",
            " [-0.04733793  0.15950659 -0.28689381 ... -0.01038956  0.14974541\n",
            "   0.08331801]\n",
            " [ 0.04402436 -0.04981106 -0.02938525 ...  0.01507439  0.01407116\n",
            "  -0.01240903]\n",
            " ...\n",
            " [-0.04943213 -0.04163655 -0.0983377  ... -0.02352502  0.06612123\n",
            "   0.06059938]\n",
            " [ 0.02481821  0.42369377 -0.1728257  ... -0.04460079  0.01220082\n",
            "  -0.02376632]\n",
            " [ 0.09151034 -0.17969281  0.15031013 ...  0.0232442  -0.09402128\n",
            "  -0.08216822]]\n"
          ]
        }
      ],
      "source": [
        "# And then the predicted matrix is computed by the product of two low-rank matrices\n",
        "new_prediction = np.dot(weights, softImpute.v.T)\n",
        "print (new_prediction)"
      ]
    },
    {
      "cell_type": "code",
      "execution_count": 89,
      "id": "d7421f9c",
      "metadata": {
        "colab": {
          "base_uri": "https://localhost:8080/"
        },
        "id": "d7421f9c",
        "outputId": "f5291dce-299b-415b-adac-d4e775890e69"
      },
      "outputs": [
        {
          "data": {
            "text/plain": [
              "1.1596555477798443e-11"
            ]
          },
          "execution_count": 89,
          "metadata": {},
          "output_type": "execute_result"
        }
      ],
      "source": [
        "# We can see it is the same with the output of the codes in the previous section\n",
        "np.sum(np.abs(new_prediction - matrix_train_filled_normalized))"
      ]
    },
    {
      "cell_type": "markdown",
      "id": "c0831b6a",
      "metadata": {
        "id": "c0831b6a"
      },
      "source": [
        "end of the note"
      ]
    }
  ],
  "metadata": {
    "colab": {
      "provenance": []
    },
    "kernelspec": {
      "display_name": "Python 3 (ipykernel)",
      "language": "python",
      "name": "python3"
    },
    "language_info": {
      "codemirror_mode": {
        "name": "ipython",
        "version": 3
      },
      "file_extension": ".py",
      "mimetype": "text/x-python",
      "name": "python",
      "nbconvert_exporter": "python",
      "pygments_lexer": "ipython3",
      "version": "3.9.12"
    }
  },
  "nbformat": 4,
  "nbformat_minor": 5
}
