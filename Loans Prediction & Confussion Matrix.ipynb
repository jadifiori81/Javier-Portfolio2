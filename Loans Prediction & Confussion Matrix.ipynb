{
 "cells": [
  {
   "cell_type": "markdown",
   "metadata": {
    "deletable": false,
    "editable": false,
    "nbgrader": {
     "checksum": "4e98c24511ffa9640bea98e5fe1ed6cd",
     "grade": false,
     "grade_id": "cell-0eea7231a392bafd",
     "locked": true,
     "schema_version": 1,
     "solution": false
    }
   },
   "source": [
    "###### Start by importing all necessary packages"
   ]
  },
  {
   "cell_type": "code",
   "execution_count": 1,
   "metadata": {
    "deletable": false,
    "editable": false,
    "nbgrader": {
     "checksum": "b8231d0511feadf3d0e33fc0023a0ca0",
     "grade": false,
     "grade_id": "cell-4c649a8d50c23efc",
     "locked": true,
     "schema_version": 1,
     "solution": false
    }
   },
   "outputs": [],
   "source": [
    "import warnings\n",
    "import numpy as np\n",
    "import seaborn as sns\n",
    "import pandas as pd\n",
    "import matplotlib.pyplot as plt\n",
    "import statsmodels.api as sm\n",
    "from statsmodels.formula.api import ols\n",
    "from statsmodels.formula.api import logit\n",
    "from scipy.stats import norm\n",
    "from sklearn.model_selection import train_test_split\n",
    "from sklearn.metrics import ConfusionMatrixDisplay\n",
    "from sklearn.metrics import confusion_matrix\n",
    "from sklearn.metrics import accuracy_score\n",
    "from pandas.core.common import SettingWithCopyWarning\n",
    "import sklearn \n",
    " \n",
    "warnings.simplefilter(action=\"ignore\", category=SettingWithCopyWarning)"
   ]
  },
  {
   "cell_type": "markdown",
   "metadata": {
    "deletable": false,
    "editable": false,
    "nbgrader": {
     "checksum": "94fab148ca809ef56ee205970b902721",
     "grade": false,
     "grade_id": "cell-8d43dfabd32d826b",
     "locked": true,
     "schema_version": 1,
     "solution": false
    }
   },
   "source": [
    "###### Read the loans.csv file into a pandas dataframe called \"df\""
   ]
  },
  {
   "cell_type": "code",
   "execution_count": 5,
   "metadata": {
    "deletable": false,
    "nbgrader": {
     "checksum": "10c67e6fe06913eead60b7ee409941ae",
     "grade": false,
     "grade_id": "cell-7a2ff9d82ab6874e",
     "locked": false,
     "schema_version": 1,
     "solution": true
    }
   },
   "outputs": [
    {
     "name": "stdout",
     "output_type": "stream",
     "text": [
      "      default  installment  log_income  fico_score  rev_balance  inquiries  \\\n",
      "0           0          829        4.93         737        28.85          0   \n",
      "1           0          228        4.81         707        33.62          0   \n",
      "2           0          367        4.51         682         3.51          1   \n",
      "3           0          162        4.93         712        33.67          1   \n",
      "4           0          103        4.91         667         4.74          0   \n",
      "...       ...          ...         ...         ...          ...        ...   \n",
      "9511        1          345        5.29         672       215.37          2   \n",
      "9512        1          258        4.84         722         0.18          5   \n",
      "9513        1           98        4.60         687        10.04          8   \n",
      "9514        1          352        4.70         692         0.00          5   \n",
      "9515        1          853        4.89         732        37.88          6   \n",
      "\n",
      "      records  \n",
      "0           0  \n",
      "1           0  \n",
      "2           0  \n",
      "3           0  \n",
      "4           0  \n",
      "...       ...  \n",
      "9511        0  \n",
      "9512        0  \n",
      "9513        0  \n",
      "9514        0  \n",
      "9515        0  \n",
      "\n",
      "[9516 rows x 7 columns]\n"
     ]
    }
   ],
   "source": [
    "# Read the file loan.csv into a Pandas dataframe object, df. \n",
    "# YOUR CODE HERE\n",
    "df= pd.read_csv(\"loans.csv\")\n",
    "print (df)"
   ]
  },
  {
   "cell_type": "code",
   "execution_count": null,
   "metadata": {
    "deletable": false,
    "editable": false,
    "nbgrader": {
     "checksum": "095ce8e95a7d4114e890af61341d0f09",
     "grade": true,
     "grade_id": "cell-b7e75e86e5098592",
     "locked": true,
     "points": 1,
     "schema_version": 1,
     "solution": false
    }
   },
   "outputs": [],
   "source": []
  },
  {
   "cell_type": "markdown",
   "metadata": {
    "deletable": false,
    "editable": false,
    "nbgrader": {
     "checksum": "28377651bec908db0893504811a687ca",
     "grade": false,
     "grade_id": "cell-812d507604af54f6",
     "locked": true,
     "schema_version": 1,
     "solution": false
    }
   },
   "source": [
    "###### Extract the two columns you will be focusing on \"default\" and \"fico_score\" "
   ]
  },
  {
   "cell_type": "code",
   "execution_count": 6,
   "metadata": {
    "deletable": false,
    "nbgrader": {
     "checksum": "1ae3e291f2f1669857acec62fdeb80bc",
     "grade": false,
     "grade_id": "cell-7fc62c81db0f40bd",
     "locked": false,
     "schema_version": 1,
     "solution": true
    }
   },
   "outputs": [
    {
     "name": "stdout",
     "output_type": "stream",
     "text": [
      "      installment  log_income  rev_balance  inquiries  records\n",
      "0             829        4.93        28.85          0        0\n",
      "1             228        4.81        33.62          0        0\n",
      "2             367        4.51         3.51          1        0\n",
      "3             162        4.93        33.67          1        0\n",
      "4             103        4.91         4.74          0        0\n",
      "...           ...         ...          ...        ...      ...\n",
      "9511          345        5.29       215.37          2        0\n",
      "9512          258        4.84         0.18          5        0\n",
      "9513           98        4.60        10.04          8        0\n",
      "9514          352        4.70         0.00          5        0\n",
      "9515          853        4.89        37.88          6        0\n",
      "\n",
      "[9516 rows x 5 columns]\n"
     ]
    }
   ],
   "source": [
    "#Extract everything besided \"default\" and \"fico_score\" from the dataframe\n",
    "# YOUR CODE HERE\n",
    "# Assuming 'df' is your DataFrame\n",
    "df_filtered = df.drop(columns=[\"default\", \"fico_score\"])\n",
    "\n",
    "# Display the resulting DataFrame\n",
    "print(df_filtered)"
   ]
  },
  {
   "cell_type": "code",
   "execution_count": null,
   "metadata": {
    "deletable": false,
    "editable": false,
    "nbgrader": {
     "checksum": "93ea3fa49af57ff73e6e891ea8ee7cfc",
     "grade": true,
     "grade_id": "cell-3a87ebd243831291",
     "locked": true,
     "points": 1,
     "schema_version": 1,
     "solution": false
    }
   },
   "outputs": [],
   "source": []
  },
  {
   "cell_type": "markdown",
   "metadata": {
    "deletable": false,
    "editable": false,
    "nbgrader": {
     "checksum": "d1030488d91442da983c453a5be8f36e",
     "grade": false,
     "grade_id": "cell-e2c044f3bf96f669",
     "locked": true,
     "schema_version": 1,
     "solution": false
    }
   },
   "source": [
    "###### Examine the data"
   ]
  },
  {
   "cell_type": "code",
   "execution_count": 7,
   "metadata": {
    "deletable": false,
    "editable": false,
    "nbgrader": {
     "checksum": "0d7beb38a3812cb1858b97aad73dd6de",
     "grade": false,
     "grade_id": "cell-dc5f9fd9493a0ad3",
     "locked": true,
     "schema_version": 1,
     "solution": false
    }
   },
   "outputs": [
    {
     "data": {
      "text/html": [
       "<div>\n",
       "<style scoped>\n",
       "    .dataframe tbody tr th:only-of-type {\n",
       "        vertical-align: middle;\n",
       "    }\n",
       "\n",
       "    .dataframe tbody tr th {\n",
       "        vertical-align: top;\n",
       "    }\n",
       "\n",
       "    .dataframe thead th {\n",
       "        text-align: right;\n",
       "    }\n",
       "</style>\n",
       "<table border=\"1\" class=\"dataframe\">\n",
       "  <thead>\n",
       "    <tr style=\"text-align: right;\">\n",
       "      <th></th>\n",
       "      <th>default</th>\n",
       "      <th>installment</th>\n",
       "      <th>log_income</th>\n",
       "      <th>fico_score</th>\n",
       "      <th>rev_balance</th>\n",
       "      <th>inquiries</th>\n",
       "      <th>records</th>\n",
       "    </tr>\n",
       "  </thead>\n",
       "  <tbody>\n",
       "    <tr>\n",
       "      <th>0</th>\n",
       "      <td>0</td>\n",
       "      <td>829</td>\n",
       "      <td>4.93</td>\n",
       "      <td>737</td>\n",
       "      <td>28.85</td>\n",
       "      <td>0</td>\n",
       "      <td>0</td>\n",
       "    </tr>\n",
       "    <tr>\n",
       "      <th>1</th>\n",
       "      <td>0</td>\n",
       "      <td>228</td>\n",
       "      <td>4.81</td>\n",
       "      <td>707</td>\n",
       "      <td>33.62</td>\n",
       "      <td>0</td>\n",
       "      <td>0</td>\n",
       "    </tr>\n",
       "    <tr>\n",
       "      <th>2</th>\n",
       "      <td>0</td>\n",
       "      <td>367</td>\n",
       "      <td>4.51</td>\n",
       "      <td>682</td>\n",
       "      <td>3.51</td>\n",
       "      <td>1</td>\n",
       "      <td>0</td>\n",
       "    </tr>\n",
       "    <tr>\n",
       "      <th>3</th>\n",
       "      <td>0</td>\n",
       "      <td>162</td>\n",
       "      <td>4.93</td>\n",
       "      <td>712</td>\n",
       "      <td>33.67</td>\n",
       "      <td>1</td>\n",
       "      <td>0</td>\n",
       "    </tr>\n",
       "    <tr>\n",
       "      <th>4</th>\n",
       "      <td>0</td>\n",
       "      <td>103</td>\n",
       "      <td>4.91</td>\n",
       "      <td>667</td>\n",
       "      <td>4.74</td>\n",
       "      <td>0</td>\n",
       "      <td>0</td>\n",
       "    </tr>\n",
       "    <tr>\n",
       "      <th>5</th>\n",
       "      <td>0</td>\n",
       "      <td>125</td>\n",
       "      <td>5.17</td>\n",
       "      <td>727</td>\n",
       "      <td>50.81</td>\n",
       "      <td>0</td>\n",
       "      <td>0</td>\n",
       "    </tr>\n",
       "  </tbody>\n",
       "</table>\n",
       "</div>"
      ],
      "text/plain": [
       "   default  installment  log_income  fico_score  rev_balance  inquiries  \\\n",
       "0        0          829        4.93         737        28.85          0   \n",
       "1        0          228        4.81         707        33.62          0   \n",
       "2        0          367        4.51         682         3.51          1   \n",
       "3        0          162        4.93         712        33.67          1   \n",
       "4        0          103        4.91         667         4.74          0   \n",
       "5        0          125        5.17         727        50.81          0   \n",
       "\n",
       "   records  \n",
       "0        0  \n",
       "1        0  \n",
       "2        0  \n",
       "3        0  \n",
       "4        0  \n",
       "5        0  "
      ]
     },
     "execution_count": 7,
     "metadata": {},
     "output_type": "execute_result"
    }
   ],
   "source": [
    "df.head(6)"
   ]
  },
  {
   "cell_type": "code",
   "execution_count": 8,
   "metadata": {
    "deletable": false,
    "editable": false,
    "nbgrader": {
     "checksum": "a406410eea13c08906197e9c02b0b31e",
     "grade": false,
     "grade_id": "cell-eabc21b7eec6de29",
     "locked": true,
     "schema_version": 1,
     "solution": false
    }
   },
   "outputs": [
    {
     "data": {
      "text/html": [
       "<div>\n",
       "<style scoped>\n",
       "    .dataframe tbody tr th:only-of-type {\n",
       "        vertical-align: middle;\n",
       "    }\n",
       "\n",
       "    .dataframe tbody tr th {\n",
       "        vertical-align: top;\n",
       "    }\n",
       "\n",
       "    .dataframe thead th {\n",
       "        text-align: right;\n",
       "    }\n",
       "</style>\n",
       "<table border=\"1\" class=\"dataframe\">\n",
       "  <thead>\n",
       "    <tr style=\"text-align: right;\">\n",
       "      <th></th>\n",
       "      <th>default</th>\n",
       "      <th>installment</th>\n",
       "      <th>log_income</th>\n",
       "      <th>fico_score</th>\n",
       "      <th>rev_balance</th>\n",
       "      <th>inquiries</th>\n",
       "      <th>records</th>\n",
       "    </tr>\n",
       "  </thead>\n",
       "  <tbody>\n",
       "    <tr>\n",
       "      <th>9510</th>\n",
       "      <td>1</td>\n",
       "      <td>70</td>\n",
       "      <td>4.39</td>\n",
       "      <td>662</td>\n",
       "      <td>3.00</td>\n",
       "      <td>6</td>\n",
       "      <td>0</td>\n",
       "    </tr>\n",
       "    <tr>\n",
       "      <th>9511</th>\n",
       "      <td>1</td>\n",
       "      <td>345</td>\n",
       "      <td>5.29</td>\n",
       "      <td>672</td>\n",
       "      <td>215.37</td>\n",
       "      <td>2</td>\n",
       "      <td>0</td>\n",
       "    </tr>\n",
       "    <tr>\n",
       "      <th>9512</th>\n",
       "      <td>1</td>\n",
       "      <td>258</td>\n",
       "      <td>4.84</td>\n",
       "      <td>722</td>\n",
       "      <td>0.18</td>\n",
       "      <td>5</td>\n",
       "      <td>0</td>\n",
       "    </tr>\n",
       "    <tr>\n",
       "      <th>9513</th>\n",
       "      <td>1</td>\n",
       "      <td>98</td>\n",
       "      <td>4.60</td>\n",
       "      <td>687</td>\n",
       "      <td>10.04</td>\n",
       "      <td>8</td>\n",
       "      <td>0</td>\n",
       "    </tr>\n",
       "    <tr>\n",
       "      <th>9514</th>\n",
       "      <td>1</td>\n",
       "      <td>352</td>\n",
       "      <td>4.70</td>\n",
       "      <td>692</td>\n",
       "      <td>0.00</td>\n",
       "      <td>5</td>\n",
       "      <td>0</td>\n",
       "    </tr>\n",
       "    <tr>\n",
       "      <th>9515</th>\n",
       "      <td>1</td>\n",
       "      <td>853</td>\n",
       "      <td>4.89</td>\n",
       "      <td>732</td>\n",
       "      <td>37.88</td>\n",
       "      <td>6</td>\n",
       "      <td>0</td>\n",
       "    </tr>\n",
       "  </tbody>\n",
       "</table>\n",
       "</div>"
      ],
      "text/plain": [
       "      default  installment  log_income  fico_score  rev_balance  inquiries  \\\n",
       "9510        1           70        4.39         662         3.00          6   \n",
       "9511        1          345        5.29         672       215.37          2   \n",
       "9512        1          258        4.84         722         0.18          5   \n",
       "9513        1           98        4.60         687        10.04          8   \n",
       "9514        1          352        4.70         692         0.00          5   \n",
       "9515        1          853        4.89         732        37.88          6   \n",
       "\n",
       "      records  \n",
       "9510        0  \n",
       "9511        0  \n",
       "9512        0  \n",
       "9513        0  \n",
       "9514        0  \n",
       "9515        0  "
      ]
     },
     "execution_count": 8,
     "metadata": {},
     "output_type": "execute_result"
    }
   ],
   "source": [
    "df.tail(6)"
   ]
  },
  {
   "cell_type": "markdown",
   "metadata": {
    "deletable": false,
    "editable": false,
    "nbgrader": {
     "checksum": "849bd2a6774599a2600c226f60a45197",
     "grade": false,
     "grade_id": "cell-2d01e0ca39de747c",
     "locked": true,
     "schema_version": 1,
     "solution": false
    }
   },
   "source": [
    "###### use df.loc[] to grab all the columns where default = 1/ there was a default. Assign this to \"default_df\""
   ]
  },
  {
   "cell_type": "code",
   "execution_count": 10,
   "metadata": {
    "deletable": false,
    "nbgrader": {
     "checksum": "beeba7d25f69b933c43265b414543db4",
     "grade": false,
     "grade_id": "cell-44247560c82c6e58",
     "locked": false,
     "schema_version": 1,
     "solution": true
    }
   },
   "outputs": [
    {
     "name": "stdout",
     "output_type": "stream",
     "text": [
      "\n",
      "Result dataframe :\n",
      "       default  installment  log_income  fico_score  rev_balance  inquiries  \\\n",
      "6           1          194        4.65         667         3.84          0   \n",
      "7           1          131        4.78         722        24.22          0   \n",
      "57          1          678        5.16         682        41.67          0   \n",
      "65          1           33        4.53         687         4.49          1   \n",
      "73          1          225        5.33         677        56.41          0   \n",
      "...       ...          ...         ...         ...          ...        ...   \n",
      "9511        1          345        5.29         672       215.37          2   \n",
      "9512        1          258        4.84         722         0.18          5   \n",
      "9513        1           98        4.60         687        10.04          8   \n",
      "9514        1          352        4.70         692         0.00          5   \n",
      "9515        1          853        4.89         732        37.88          6   \n",
      "\n",
      "      records  \n",
      "6           1  \n",
      "7           0  \n",
      "57          0  \n",
      "65          0  \n",
      "73          0  \n",
      "...       ...  \n",
      "9511        0  \n",
      "9512        0  \n",
      "9513        0  \n",
      "9514        0  \n",
      "9515        0  \n",
      "\n",
      "[1521 rows x 7 columns]\n"
     ]
    }
   ],
   "source": [
    "# Use df.loc[] to extract all rows where a loan defaulted.\n",
    "# Set the resulting dataset to default_df to be displayed\n",
    "# YOUR CODE HERE\n",
    "# Extract all rows where the 'default' column equals 1\n",
    "default_df = df.loc[df['default'] == 1]\n",
    "\n",
    "# Display the resulting dataframe\n",
    "print('\\nResult dataframe :\\n', default_df)\n",
    "  \n"
   ]
  },
  {
   "cell_type": "code",
   "execution_count": null,
   "metadata": {
    "deletable": false,
    "editable": false,
    "nbgrader": {
     "checksum": "c6d22cc73b96d216441c4b15f672480f",
     "grade": true,
     "grade_id": "cell-cc09f4cda8792061",
     "locked": true,
     "points": 1,
     "schema_version": 1,
     "solution": false
    }
   },
   "outputs": [],
   "source": []
  },
  {
   "cell_type": "markdown",
   "metadata": {
    "deletable": false,
    "editable": false,
    "nbgrader": {
     "checksum": "19d11637ad1407d4381417ff58b6a441",
     "grade": false,
     "grade_id": "cell-b46e83057872fb0a",
     "locked": true,
     "schema_version": 1,
     "solution": false
    }
   },
   "source": [
    "###### Use df.loc[] to grab all rows where a loan did not default and assign the output to no_default_df. "
   ]
  },
  {
   "cell_type": "code",
   "execution_count": 12,
   "metadata": {
    "deletable": false,
    "nbgrader": {
     "checksum": "d341c4c5a060c9524a0acff8f288c9e0",
     "grade": false,
     "grade_id": "cell-151d20fdc4c28b7a",
     "locked": false,
     "schema_version": 1,
     "solution": true
    }
   },
   "outputs": [
    {
     "name": "stdout",
     "output_type": "stream",
     "text": [
      "\n",
      "Result dataframe :\n",
      "       default  installment  log_income  fico_score  rev_balance  inquiries  \\\n",
      "0           0          829        4.93         737        28.85          0   \n",
      "1           0          228        4.81         707        33.62          0   \n",
      "2           0          367        4.51         682         3.51          1   \n",
      "3           0          162        4.93         712        33.67          1   \n",
      "4           0          103        4.91         667         4.74          0   \n",
      "...       ...          ...         ...         ...          ...        ...   \n",
      "9499        0          116        4.78         722        11.59          4   \n",
      "9500        0          509        4.75         717         8.76          6   \n",
      "9502        0          512        5.35         687       385.49          4   \n",
      "9505        0          101        4.76         687         1.51          5   \n",
      "9506        0           37        4.62         667        28.85          6   \n",
      "\n",
      "      records  \n",
      "0           0  \n",
      "1           0  \n",
      "2           0  \n",
      "3           0  \n",
      "4           0  \n",
      "...       ...  \n",
      "9499        0  \n",
      "9500        0  \n",
      "9502        0  \n",
      "9505        0  \n",
      "9506        1  \n",
      "\n",
      "[7995 rows x 7 columns]\n"
     ]
    }
   ],
   "source": [
    "#Use df.loc[] to extract all rows where a loan did not default.\n",
    "# Set the resulting dataset to no_default_df to be displayed\n",
    "# YOUR CODE HERE\n",
    "# Extract all rows where the 'default' column equals 0 (indicating no default)\n",
    "no_default_df = df.loc[df['default'] == 0]\n",
    "\n",
    "# Display the resulting dataframe\n",
    "\n",
    "print('\\nResult dataframe :\\n', no_default_df)"
   ]
  },
  {
   "cell_type": "code",
   "execution_count": null,
   "metadata": {
    "deletable": false,
    "editable": false,
    "nbgrader": {
     "checksum": "f7dfa243cfd778a93721f221e034f4b8",
     "grade": true,
     "grade_id": "cell-088bcecb3a795071",
     "locked": true,
     "points": 1,
     "schema_version": 1,
     "solution": false
    }
   },
   "outputs": [],
   "source": []
  },
  {
   "cell_type": "markdown",
   "metadata": {
    "deletable": false,
    "editable": false,
    "nbgrader": {
     "checksum": "a04e77d287c5479001cbc9e3e7d0b6e5",
     "grade": false,
     "grade_id": "cell-6e2910d12ecef175",
     "locked": true,
     "schema_version": 1,
     "solution": false
    }
   },
   "source": [
    "###### Examine the resulting dataframes "
   ]
  },
  {
   "cell_type": "code",
   "execution_count": 13,
   "metadata": {
    "deletable": false,
    "editable": false,
    "nbgrader": {
     "checksum": "fd774ecb7404ecfe0b530baa9ae302cb",
     "grade": false,
     "grade_id": "cell-7af659b916856b12",
     "locked": true,
     "schema_version": 1,
     "solution": false
    }
   },
   "outputs": [
    {
     "data": {
      "text/html": [
       "<div>\n",
       "<style scoped>\n",
       "    .dataframe tbody tr th:only-of-type {\n",
       "        vertical-align: middle;\n",
       "    }\n",
       "\n",
       "    .dataframe tbody tr th {\n",
       "        vertical-align: top;\n",
       "    }\n",
       "\n",
       "    .dataframe thead th {\n",
       "        text-align: right;\n",
       "    }\n",
       "</style>\n",
       "<table border=\"1\" class=\"dataframe\">\n",
       "  <thead>\n",
       "    <tr style=\"text-align: right;\">\n",
       "      <th></th>\n",
       "      <th>default</th>\n",
       "      <th>installment</th>\n",
       "      <th>log_income</th>\n",
       "      <th>fico_score</th>\n",
       "      <th>rev_balance</th>\n",
       "      <th>inquiries</th>\n",
       "      <th>records</th>\n",
       "    </tr>\n",
       "  </thead>\n",
       "  <tbody>\n",
       "    <tr>\n",
       "      <th>count</th>\n",
       "      <td>7995.0</td>\n",
       "      <td>7995.000000</td>\n",
       "      <td>7995.000000</td>\n",
       "      <td>7995.000000</td>\n",
       "      <td>7995.000000</td>\n",
       "      <td>7995.000000</td>\n",
       "      <td>7995.000000</td>\n",
       "    </tr>\n",
       "    <tr>\n",
       "      <th>mean</th>\n",
       "      <td>0.0</td>\n",
       "      <td>315.542464</td>\n",
       "      <td>4.752088</td>\n",
       "      <td>713.307067</td>\n",
       "      <td>16.181555</td>\n",
       "      <td>1.428143</td>\n",
       "      <td>0.056535</td>\n",
       "    </tr>\n",
       "    <tr>\n",
       "      <th>std</th>\n",
       "      <td>0.0</td>\n",
       "      <td>203.361193</td>\n",
       "      <td>0.260654</td>\n",
       "      <td>38.209948</td>\n",
       "      <td>29.542831</td>\n",
       "      <td>1.997417</td>\n",
       "      <td>0.255646</td>\n",
       "    </tr>\n",
       "    <tr>\n",
       "      <th>min</th>\n",
       "      <td>0.0</td>\n",
       "      <td>16.000000</td>\n",
       "      <td>3.280000</td>\n",
       "      <td>612.000000</td>\n",
       "      <td>0.000000</td>\n",
       "      <td>0.000000</td>\n",
       "      <td>0.000000</td>\n",
       "    </tr>\n",
       "    <tr>\n",
       "      <th>25%</th>\n",
       "      <td>0.0</td>\n",
       "      <td>163.000000</td>\n",
       "      <td>4.600000</td>\n",
       "      <td>682.000000</td>\n",
       "      <td>3.250000</td>\n",
       "      <td>0.000000</td>\n",
       "      <td>0.000000</td>\n",
       "    </tr>\n",
       "    <tr>\n",
       "      <th>50%</th>\n",
       "      <td>0.0</td>\n",
       "      <td>268.000000</td>\n",
       "      <td>4.750000</td>\n",
       "      <td>707.000000</td>\n",
       "      <td>8.630000</td>\n",
       "      <td>1.000000</td>\n",
       "      <td>0.000000</td>\n",
       "    </tr>\n",
       "    <tr>\n",
       "      <th>75%</th>\n",
       "      <td>0.0</td>\n",
       "      <td>425.500000</td>\n",
       "      <td>4.910000</td>\n",
       "      <td>742.000000</td>\n",
       "      <td>18.000000</td>\n",
       "      <td>2.000000</td>\n",
       "      <td>0.000000</td>\n",
       "    </tr>\n",
       "    <tr>\n",
       "      <th>max</th>\n",
       "      <td>0.0</td>\n",
       "      <td>940.000000</td>\n",
       "      <td>6.310000</td>\n",
       "      <td>827.000000</td>\n",
       "      <td>952.010000</td>\n",
       "      <td>31.000000</td>\n",
       "      <td>5.000000</td>\n",
       "    </tr>\n",
       "  </tbody>\n",
       "</table>\n",
       "</div>"
      ],
      "text/plain": [
       "       default  installment   log_income   fico_score  rev_balance  \\\n",
       "count   7995.0  7995.000000  7995.000000  7995.000000  7995.000000   \n",
       "mean       0.0   315.542464     4.752088   713.307067    16.181555   \n",
       "std        0.0   203.361193     0.260654    38.209948    29.542831   \n",
       "min        0.0    16.000000     3.280000   612.000000     0.000000   \n",
       "25%        0.0   163.000000     4.600000   682.000000     3.250000   \n",
       "50%        0.0   268.000000     4.750000   707.000000     8.630000   \n",
       "75%        0.0   425.500000     4.910000   742.000000    18.000000   \n",
       "max        0.0   940.000000     6.310000   827.000000   952.010000   \n",
       "\n",
       "         inquiries      records  \n",
       "count  7995.000000  7995.000000  \n",
       "mean      1.428143     0.056535  \n",
       "std       1.997417     0.255646  \n",
       "min       0.000000     0.000000  \n",
       "25%       0.000000     0.000000  \n",
       "50%       1.000000     0.000000  \n",
       "75%       2.000000     0.000000  \n",
       "max      31.000000     5.000000  "
      ]
     },
     "execution_count": 13,
     "metadata": {},
     "output_type": "execute_result"
    }
   ],
   "source": [
    "no_default_df.describe()"
   ]
  },
  {
   "cell_type": "code",
   "execution_count": 14,
   "metadata": {
    "deletable": false,
    "editable": false,
    "nbgrader": {
     "checksum": "cd919c9c9bc64a40002a294315fa0dc5",
     "grade": false,
     "grade_id": "cell-031ede4b673f8885",
     "locked": true,
     "schema_version": 1,
     "solution": false
    }
   },
   "outputs": [
    {
     "data": {
      "text/html": [
       "<div>\n",
       "<style scoped>\n",
       "    .dataframe tbody tr th:only-of-type {\n",
       "        vertical-align: middle;\n",
       "    }\n",
       "\n",
       "    .dataframe tbody tr th {\n",
       "        vertical-align: top;\n",
       "    }\n",
       "\n",
       "    .dataframe thead th {\n",
       "        text-align: right;\n",
       "    }\n",
       "</style>\n",
       "<table border=\"1\" class=\"dataframe\">\n",
       "  <thead>\n",
       "    <tr style=\"text-align: right;\">\n",
       "      <th></th>\n",
       "      <th>default</th>\n",
       "      <th>installment</th>\n",
       "      <th>log_income</th>\n",
       "      <th>fico_score</th>\n",
       "      <th>rev_balance</th>\n",
       "      <th>inquiries</th>\n",
       "      <th>records</th>\n",
       "    </tr>\n",
       "  </thead>\n",
       "  <tbody>\n",
       "    <tr>\n",
       "      <th>count</th>\n",
       "      <td>1521.0</td>\n",
       "      <td>1521.000000</td>\n",
       "      <td>1521.000000</td>\n",
       "      <td>1521.000000</td>\n",
       "      <td>1521.000000</td>\n",
       "      <td>1521.000000</td>\n",
       "      <td>1521.000000</td>\n",
       "    </tr>\n",
       "    <tr>\n",
       "      <th>mean</th>\n",
       "      <td>1.0</td>\n",
       "      <td>344.319527</td>\n",
       "      <td>4.730618</td>\n",
       "      <td>697.884287</td>\n",
       "      <td>21.232939</td>\n",
       "      <td>2.333991</td>\n",
       "      <td>0.092045</td>\n",
       "    </tr>\n",
       "    <tr>\n",
       "      <th>std</th>\n",
       "      <td>0.0</td>\n",
       "      <td>224.068429</td>\n",
       "      <td>0.286276</td>\n",
       "      <td>33.764233</td>\n",
       "      <td>50.066968</td>\n",
       "      <td>2.938440</td>\n",
       "      <td>0.293699</td>\n",
       "    </tr>\n",
       "    <tr>\n",
       "      <th>min</th>\n",
       "      <td>1.0</td>\n",
       "      <td>16.000000</td>\n",
       "      <td>3.300000</td>\n",
       "      <td>617.000000</td>\n",
       "      <td>0.000000</td>\n",
       "      <td>0.000000</td>\n",
       "      <td>0.000000</td>\n",
       "    </tr>\n",
       "    <tr>\n",
       "      <th>25%</th>\n",
       "      <td>1.0</td>\n",
       "      <td>169.000000</td>\n",
       "      <td>4.560000</td>\n",
       "      <td>672.000000</td>\n",
       "      <td>3.400000</td>\n",
       "      <td>0.000000</td>\n",
       "      <td>0.000000</td>\n",
       "    </tr>\n",
       "    <tr>\n",
       "      <th>50%</th>\n",
       "      <td>1.0</td>\n",
       "      <td>290.000000</td>\n",
       "      <td>4.730000</td>\n",
       "      <td>692.000000</td>\n",
       "      <td>8.940000</td>\n",
       "      <td>1.000000</td>\n",
       "      <td>0.000000</td>\n",
       "    </tr>\n",
       "    <tr>\n",
       "      <th>75%</th>\n",
       "      <td>1.0</td>\n",
       "      <td>492.000000</td>\n",
       "      <td>4.900000</td>\n",
       "      <td>717.000000</td>\n",
       "      <td>20.700000</td>\n",
       "      <td>3.000000</td>\n",
       "      <td>0.000000</td>\n",
       "    </tr>\n",
       "    <tr>\n",
       "      <th>max</th>\n",
       "      <td>1.0</td>\n",
       "      <td>927.000000</td>\n",
       "      <td>5.850000</td>\n",
       "      <td>822.000000</td>\n",
       "      <td>1207.360000</td>\n",
       "      <td>33.000000</td>\n",
       "      <td>2.000000</td>\n",
       "    </tr>\n",
       "  </tbody>\n",
       "</table>\n",
       "</div>"
      ],
      "text/plain": [
       "       default  installment   log_income   fico_score  rev_balance  \\\n",
       "count   1521.0  1521.000000  1521.000000  1521.000000  1521.000000   \n",
       "mean       1.0   344.319527     4.730618   697.884287    21.232939   \n",
       "std        0.0   224.068429     0.286276    33.764233    50.066968   \n",
       "min        1.0    16.000000     3.300000   617.000000     0.000000   \n",
       "25%        1.0   169.000000     4.560000   672.000000     3.400000   \n",
       "50%        1.0   290.000000     4.730000   692.000000     8.940000   \n",
       "75%        1.0   492.000000     4.900000   717.000000    20.700000   \n",
       "max        1.0   927.000000     5.850000   822.000000  1207.360000   \n",
       "\n",
       "         inquiries      records  \n",
       "count  1521.000000  1521.000000  \n",
       "mean      2.333991     0.092045  \n",
       "std       2.938440     0.293699  \n",
       "min       0.000000     0.000000  \n",
       "25%       0.000000     0.000000  \n",
       "50%       1.000000     0.000000  \n",
       "75%       3.000000     0.000000  \n",
       "max      33.000000     2.000000  "
      ]
     },
     "execution_count": 14,
     "metadata": {},
     "output_type": "execute_result"
    }
   ],
   "source": [
    "default_df.describe()"
   ]
  },
  {
   "cell_type": "markdown",
   "metadata": {
    "deletable": false,
    "editable": false,
    "nbgrader": {
     "checksum": "22e23dcaba7ae02c496e37c18c5c97c9",
     "grade": false,
     "grade_id": "cell-3b643cec0347ea2e",
     "locked": true,
     "schema_version": 1,
     "solution": false
    }
   },
   "source": [
    "###### Fill in the code to display a scatter plot of fico_score vs defaults. Set alpha =0.1 and s=200"
   ]
  },
  {
   "cell_type": "code",
   "execution_count": 15,
   "metadata": {
    "deletable": false,
    "nbgrader": {
     "checksum": "eed662bd5cf7d3a708ebbc818a1f9d7b",
     "grade": false,
     "grade_id": "cell-1e1c39ef8de4f330",
     "locked": false,
     "schema_version": 1,
     "solution": true
    }
   },
   "outputs": [
    {
     "data": {
      "image/png": "[encoded data removed]",
      "text/plain": [
       "<Figure size 432x288 with 1 Axes>"
      ]
     },
     "metadata": {
      "needs_background": "light"
     },
     "output_type": "display_data"
    }
   ],
   "source": [
    "# YOUR CODE HERE\n",
    "import matplotlib.pyplot as plt\n",
    "\n",
    "# Create the scatter plot\n",
    "plt.scatter(df['fico_score'], df['default'], alpha=0.1, s=200)\n",
    "\n",
    "# Add labels and a title\n",
    "plt.xlabel('FICO Score')\n",
    "plt.ylabel('Default')\n",
    "plt.title('Scatter Plot of FICO Score vs Default')\n",
    "\n",
    "# Show the plot\n",
    "plt.show()"
   ]
  },
  {
   "cell_type": "code",
   "execution_count": null,
   "metadata": {
    "deletable": false,
    "editable": false,
    "nbgrader": {
     "checksum": "0a50fcc83a78b9311392f5b3bdb5477e",
     "grade": true,
     "grade_id": "cell-eee4ee2eee16db44",
     "locked": true,
     "points": 1,
     "schema_version": 1,
     "solution": false
    }
   },
   "outputs": [],
   "source": []
  },
  {
   "cell_type": "markdown",
   "metadata": {
    "deletable": false,
    "editable": false,
    "nbgrader": {
     "checksum": "9734759b1d094f24068a3ec60b5cf2c6",
     "grade": false,
     "grade_id": "cell-f2cdc453a67fae63",
     "locked": true,
     "schema_version": 1,
     "solution": false
    }
   },
   "source": [
    "###### Split the dataframe inot train and test sets called df_train and df_test"
   ]
  },
  {
   "cell_type": "code",
   "execution_count": 16,
   "metadata": {
    "deletable": false,
    "nbgrader": {
     "checksum": "150b65f67a52e742c26c9befa72ef428",
     "grade": false,
     "grade_id": "cell-2761bf301603f0e4",
     "locked": false,
     "schema_version": 1,
     "solution": true
    }
   },
   "outputs": [
    {
     "name": "stdout",
     "output_type": "stream",
     "text": [
      "Training set shape: (6661, 7)\n",
      "Test set shape: (2855, 7)\n"
     ]
    }
   ],
   "source": [
    "# Data split into 70% train and 30% test. \n",
    "# The dataframes should be called df_train and df_test\n",
    "# YOUR CODE HERE\n",
    "from sklearn.model_selection import train_test_split\n",
    "\n",
    "# Split the data: 70% for training and 30% for testing\n",
    "df_train, df_test = train_test_split(df, test_size=0.3, random_state=42)\n",
    "\n",
    "# Display the shape of the resulting dataframes\n",
    "print(f\"Training set shape: {df_train.shape}\")\n",
    "print(f\"Test set shape: {df_test.shape}\")"
   ]
  },
  {
   "cell_type": "code",
   "execution_count": null,
   "metadata": {
    "deletable": false,
    "editable": false,
    "nbgrader": {
     "checksum": "c941581ffcd66b7bfff052d0e9a3ce3a",
     "grade": true,
     "grade_id": "cell-76a918cda38d43a9",
     "locked": true,
     "points": 1,
     "schema_version": 1,
     "solution": false
    }
   },
   "outputs": [],
   "source": []
  },
  {
   "cell_type": "markdown",
   "metadata": {
    "deletable": false,
    "editable": false,
    "nbgrader": {
     "checksum": "34a3f82531d634534f5c946374e3c0de",
     "grade": false,
     "grade_id": "cell-6bd027b5376aa272",
     "locked": true,
     "schema_version": 1,
     "solution": false
    }
   },
   "source": [
    "###### Examine the training set"
   ]
  },
  {
   "cell_type": "code",
   "execution_count": 17,
   "metadata": {
    "deletable": false,
    "editable": false,
    "nbgrader": {
     "checksum": "40c5eef0dd0953be43c340e3aa4568f5",
     "grade": false,
     "grade_id": "cell-f14b9e4fdc117e71",
     "locked": true,
     "schema_version": 1,
     "solution": false
    }
   },
   "outputs": [
    {
     "data": {
      "text/html": [
       "<div>\n",
       "<style scoped>\n",
       "    .dataframe tbody tr th:only-of-type {\n",
       "        vertical-align: middle;\n",
       "    }\n",
       "\n",
       "    .dataframe tbody tr th {\n",
       "        vertical-align: top;\n",
       "    }\n",
       "\n",
       "    .dataframe thead th {\n",
       "        text-align: right;\n",
       "    }\n",
       "</style>\n",
       "<table border=\"1\" class=\"dataframe\">\n",
       "  <thead>\n",
       "    <tr style=\"text-align: right;\">\n",
       "      <th></th>\n",
       "      <th>default</th>\n",
       "      <th>installment</th>\n",
       "      <th>log_income</th>\n",
       "      <th>fico_score</th>\n",
       "      <th>rev_balance</th>\n",
       "      <th>inquiries</th>\n",
       "      <th>records</th>\n",
       "    </tr>\n",
       "  </thead>\n",
       "  <tbody>\n",
       "    <tr>\n",
       "      <th>count</th>\n",
       "      <td>6661.000000</td>\n",
       "      <td>6661.000000</td>\n",
       "      <td>6661.000000</td>\n",
       "      <td>6661.000000</td>\n",
       "      <td>6661.000000</td>\n",
       "      <td>6661.000000</td>\n",
       "      <td>6661.000000</td>\n",
       "    </tr>\n",
       "    <tr>\n",
       "      <th>mean</th>\n",
       "      <td>0.159285</td>\n",
       "      <td>317.735775</td>\n",
       "      <td>4.746588</td>\n",
       "      <td>710.142171</td>\n",
       "      <td>16.666511</td>\n",
       "      <td>1.582645</td>\n",
       "      <td>0.063204</td>\n",
       "    </tr>\n",
       "    <tr>\n",
       "      <th>std</th>\n",
       "      <td>0.365969</td>\n",
       "      <td>205.260141</td>\n",
       "      <td>0.262403</td>\n",
       "      <td>37.858862</td>\n",
       "      <td>33.348172</td>\n",
       "      <td>2.219412</td>\n",
       "      <td>0.264629</td>\n",
       "    </tr>\n",
       "    <tr>\n",
       "      <th>min</th>\n",
       "      <td>0.000000</td>\n",
       "      <td>16.000000</td>\n",
       "      <td>3.280000</td>\n",
       "      <td>612.000000</td>\n",
       "      <td>0.000000</td>\n",
       "      <td>0.000000</td>\n",
       "      <td>0.000000</td>\n",
       "    </tr>\n",
       "    <tr>\n",
       "      <th>25%</th>\n",
       "      <td>0.000000</td>\n",
       "      <td>165.000000</td>\n",
       "      <td>4.590000</td>\n",
       "      <td>682.000000</td>\n",
       "      <td>3.340000</td>\n",
       "      <td>0.000000</td>\n",
       "      <td>0.000000</td>\n",
       "    </tr>\n",
       "    <tr>\n",
       "      <th>50%</th>\n",
       "      <td>0.000000</td>\n",
       "      <td>269.000000</td>\n",
       "      <td>4.740000</td>\n",
       "      <td>707.000000</td>\n",
       "      <td>8.640000</td>\n",
       "      <td>1.000000</td>\n",
       "      <td>0.000000</td>\n",
       "    </tr>\n",
       "    <tr>\n",
       "      <th>75%</th>\n",
       "      <td>0.000000</td>\n",
       "      <td>426.000000</td>\n",
       "      <td>4.900000</td>\n",
       "      <td>737.000000</td>\n",
       "      <td>18.120000</td>\n",
       "      <td>2.000000</td>\n",
       "      <td>0.000000</td>\n",
       "    </tr>\n",
       "    <tr>\n",
       "      <th>max</th>\n",
       "      <td>1.000000</td>\n",
       "      <td>940.000000</td>\n",
       "      <td>6.160000</td>\n",
       "      <td>822.000000</td>\n",
       "      <td>1207.360000</td>\n",
       "      <td>33.000000</td>\n",
       "      <td>5.000000</td>\n",
       "    </tr>\n",
       "  </tbody>\n",
       "</table>\n",
       "</div>"
      ],
      "text/plain": [
       "           default  installment   log_income   fico_score  rev_balance  \\\n",
       "count  6661.000000  6661.000000  6661.000000  6661.000000  6661.000000   \n",
       "mean      0.159285   317.735775     4.746588   710.142171    16.666511   \n",
       "std       0.365969   205.260141     0.262403    37.858862    33.348172   \n",
       "min       0.000000    16.000000     3.280000   612.000000     0.000000   \n",
       "25%       0.000000   165.000000     4.590000   682.000000     3.340000   \n",
       "50%       0.000000   269.000000     4.740000   707.000000     8.640000   \n",
       "75%       0.000000   426.000000     4.900000   737.000000    18.120000   \n",
       "max       1.000000   940.000000     6.160000   822.000000  1207.360000   \n",
       "\n",
       "         inquiries      records  \n",
       "count  6661.000000  6661.000000  \n",
       "mean      1.582645     0.063204  \n",
       "std       2.219412     0.264629  \n",
       "min       0.000000     0.000000  \n",
       "25%       0.000000     0.000000  \n",
       "50%       1.000000     0.000000  \n",
       "75%       2.000000     0.000000  \n",
       "max      33.000000     5.000000  "
      ]
     },
     "execution_count": 17,
     "metadata": {},
     "output_type": "execute_result"
    }
   ],
   "source": [
    "df_train.describe()"
   ]
  },
  {
   "cell_type": "markdown",
   "metadata": {
    "deletable": false,
    "editable": false,
    "nbgrader": {
     "checksum": "ac5ee192fdbbcf0d4c2f3801cd2f25a6",
     "grade": false,
     "grade_id": "cell-1db458fc17574613",
     "locked": true,
     "schema_version": 1,
     "solution": false
    }
   },
   "source": [
    "###### Create a formula and your modle based on training data"
   ]
  },
  {
   "cell_type": "code",
   "execution_count": 23,
   "metadata": {
    "deletable": false,
    "nbgrader": {
     "checksum": "e319d8d08a38536e3fb796fd2a063b66",
     "grade": false,
     "grade_id": "cell-f2ccbdbe46032e60",
     "locked": false,
     "schema_version": 1,
     "solution": true
    }
   },
   "outputs": [
    {
     "name": "stdout",
     "output_type": "stream",
     "text": [
      "Optimization terminated successfully.\n",
      "         Current function value: 0.425071\n",
      "         Iterations 6\n",
      "                           Logit Regression Results                           \n",
      "==============================================================================\n",
      "Dep. Variable:                default   No. Observations:                 6661\n",
      "Model:                          Logit   Df Residuals:                     6657\n",
      "Method:                           MLE   Df Model:                            3\n",
      "Date:                Tue, 17 Sep 2024   Pseudo R-squ.:                 0.03059\n",
      "Time:                        02:25:23   Log-Likelihood:                -2831.4\n",
      "converged:                       True   LL-Null:                       -2920.7\n",
      "Covariance Type:            nonrobust   LLR p-value:                 1.704e-38\n",
      "===============================================================================\n",
      "                  coef    std err          z      P>|z|      [0.025      0.975]\n",
      "-------------------------------------------------------------------------------\n",
      "Intercept       8.9182      0.919      9.706      0.000       7.117      10.719\n",
      "fico_score     -0.0115      0.001    -11.447      0.000      -0.013      -0.010\n",
      "log_income     -0.5391      0.142     -3.795      0.000      -0.818      -0.261\n",
      "rev_balance     0.0042      0.001      3.769      0.000       0.002       0.006\n",
      "===============================================================================\n"
     ]
    }
   ],
   "source": [
    "# build formula,  target (depedent variable) ~ features (indepedent variables)\n",
    "# build model, fit the formula to the training data using a logistic algorithim (logit). \n",
    "# Set the output to \"est\"\n",
    "# YOUR CODE HERE\n",
    "import statsmodels.formula.api as smf\n",
    "\n",
    "# Define the formula: \"default\" is the target (dependent variable) and all other features are independent variables\n",
    "# Replace \"feature1 + feature2 + ... + featureN\" with your actual feature names\n",
    "formula = 'default ~ fico_score + log_income + rev_balance'\n",
    "\n",
    "# Fit the logistic regression model using the training data\n",
    "est = smf.logit(formula, data=df_train).fit()\n",
    "\n",
    "\n",
    "\n",
    "# print the results of the model (est).\n",
    "# Examine; Pseudo R-squared, p values, coefficients \n",
    "print(est.summary())"
   ]
  },
  {
   "cell_type": "markdown",
   "metadata": {
    "deletable": false,
    "editable": false,
    "nbgrader": {
     "checksum": "7a1b4c9abc39e7f611ba4e6ba1bdf3e3",
     "grade": false,
     "grade_id": "cell-6500963167fb33aa",
     "locked": true,
     "schema_version": 1,
     "solution": false
    }
   },
   "source": [
    "###### Use your model to make predictions based on the test set"
   ]
  },
  {
   "cell_type": "code",
   "execution_count": 29,
   "metadata": {
    "deletable": false,
    "nbgrader": {
     "checksum": "5648106cf2317a65b674af4b71aa5c31",
     "grade": false,
     "grade_id": "cell-17164d60fb4ac616",
     "locked": false,
     "schema_version": 1,
     "solution": true
    }
   },
   "outputs": [
    {
     "data": {
      "text/html": [
       "<div>\n",
       "<style scoped>\n",
       "    .dataframe tbody tr th:only-of-type {\n",
       "        vertical-align: middle;\n",
       "    }\n",
       "\n",
       "    .dataframe tbody tr th {\n",
       "        vertical-align: top;\n",
       "    }\n",
       "\n",
       "    .dataframe thead th {\n",
       "        text-align: right;\n",
       "    }\n",
       "</style>\n",
       "<table border=\"1\" class=\"dataframe\">\n",
       "  <thead>\n",
       "    <tr style=\"text-align: right;\">\n",
       "      <th></th>\n",
       "      <th>default</th>\n",
       "      <th>installment</th>\n",
       "      <th>log_income</th>\n",
       "      <th>fico_score</th>\n",
       "      <th>rev_balance</th>\n",
       "      <th>inquiries</th>\n",
       "      <th>records</th>\n",
       "      <th>predicted_probability</th>\n",
       "      <th>predicted_label</th>\n",
       "    </tr>\n",
       "  </thead>\n",
       "  <tbody>\n",
       "    <tr>\n",
       "      <th>8379</th>\n",
       "      <td>0</td>\n",
       "      <td>108</td>\n",
       "      <td>4.65</td>\n",
       "      <td>647</td>\n",
       "      <td>14.98</td>\n",
       "      <td>1</td>\n",
       "      <td>0</td>\n",
       "      <td>0.275631</td>\n",
       "      <td>0</td>\n",
       "    </tr>\n",
       "    <tr>\n",
       "      <th>5955</th>\n",
       "      <td>0</td>\n",
       "      <td>158</td>\n",
       "      <td>4.77</td>\n",
       "      <td>742</td>\n",
       "      <td>6.67</td>\n",
       "      <td>0</td>\n",
       "      <td>0</td>\n",
       "      <td>0.103552</td>\n",
       "      <td>0</td>\n",
       "    </tr>\n",
       "    <tr>\n",
       "      <th>6681</th>\n",
       "      <td>0</td>\n",
       "      <td>683</td>\n",
       "      <td>5.03</td>\n",
       "      <td>742</td>\n",
       "      <td>4.59</td>\n",
       "      <td>0</td>\n",
       "      <td>0</td>\n",
       "      <td>0.090523</td>\n",
       "      <td>0</td>\n",
       "    </tr>\n",
       "    <tr>\n",
       "      <th>2737</th>\n",
       "      <td>0</td>\n",
       "      <td>167</td>\n",
       "      <td>5.02</td>\n",
       "      <td>707</td>\n",
       "      <td>70.43</td>\n",
       "      <td>0</td>\n",
       "      <td>0</td>\n",
       "      <td>0.164830</td>\n",
       "      <td>0</td>\n",
       "    </tr>\n",
       "    <tr>\n",
       "      <th>3529</th>\n",
       "      <td>0</td>\n",
       "      <td>343</td>\n",
       "      <td>4.70</td>\n",
       "      <td>727</td>\n",
       "      <td>10.17</td>\n",
       "      <td>0</td>\n",
       "      <td>0</td>\n",
       "      <td>0.126373</td>\n",
       "      <td>0</td>\n",
       "    </tr>\n",
       "    <tr>\n",
       "      <th>6383</th>\n",
       "      <td>0</td>\n",
       "      <td>562</td>\n",
       "      <td>4.70</td>\n",
       "      <td>732</td>\n",
       "      <td>21.59</td>\n",
       "      <td>0</td>\n",
       "      <td>0</td>\n",
       "      <td>0.125326</td>\n",
       "      <td>0</td>\n",
       "    </tr>\n",
       "  </tbody>\n",
       "</table>\n",
       "</div>"
      ],
      "text/plain": [
       "      default  installment  log_income  fico_score  rev_balance  inquiries  \\\n",
       "8379        0          108        4.65         647        14.98          1   \n",
       "5955        0          158        4.77         742         6.67          0   \n",
       "6681        0          683        5.03         742         4.59          0   \n",
       "2737        0          167        5.02         707        70.43          0   \n",
       "3529        0          343        4.70         727        10.17          0   \n",
       "6383        0          562        4.70         732        21.59          0   \n",
       "\n",
       "      records  predicted_probability  predicted_label  \n",
       "8379        0               0.275631                0  \n",
       "5955        0               0.103552                0  \n",
       "6681        0               0.090523                0  \n",
       "2737        0               0.164830                0  \n",
       "3529        0               0.126373                0  \n",
       "6383        0               0.125326                0  "
      ]
     },
     "execution_count": 29,
     "metadata": {},
     "output_type": "execute_result"
    }
   ],
   "source": [
    "# Use your model to create a predicted probability of default from the df_test dataframe \n",
    "# Assign a new calumn \"predicted_probability\" to the predicted output\n",
    "# YOUR CODE HERE\n",
    "# Use the logistic model to predict the probability of default on the test data\n",
    "df_test['predicted_probability'] = est.predict(df_test)\n",
    "\n",
    "# Display the first 6 rows of the df_test DataFrame with the new column\n",
    "df_test.head(6)\n",
    "\n"
   ]
  },
  {
   "cell_type": "code",
   "execution_count": null,
   "metadata": {
    "deletable": false,
    "editable": false,
    "nbgrader": {
     "checksum": "7bc9a3da4cbcdd43b301a448dd8052c4",
     "grade": true,
     "grade_id": "cell-3cddacad137abc9a",
     "locked": true,
     "points": 2,
     "schema_version": 1,
     "solution": false
    }
   },
   "outputs": [],
   "source": []
  },
  {
   "cell_type": "markdown",
   "metadata": {
    "deletable": false,
    "editable": false,
    "nbgrader": {
     "checksum": "23a440bbde3b0bb2d6649e17876ef4fe",
     "grade": false,
     "grade_id": "cell-8b9ce2774740b872",
     "locked": true,
     "schema_version": 1,
     "solution": false
    }
   },
   "source": [
    "###### Next, create a new column called \"will default\" that observes the predicted probability and flags a loan as a potential to default or not. Experiment with the predicted probability threshold to optimise the model. "
   ]
  },
  {
   "cell_type": "code",
   "execution_count": 30,
   "metadata": {
    "deletable": false,
    "nbgrader": {
     "checksum": "6383f005100c0edc451fc24098b1f133",
     "grade": false,
     "grade_id": "cell-169b609a460941ad",
     "locked": false,
     "schema_version": 1,
     "solution": true
    }
   },
   "outputs": [
    {
     "name": "stdout",
     "output_type": "stream",
     "text": [
      "      default  installment  log_income  fico_score  rev_balance  inquiries  \\\n",
      "8379        0          108        4.65         647        14.98          1   \n",
      "5955        0          158        4.77         742         6.67          0   \n",
      "6681        0          683        5.03         742         4.59          0   \n",
      "2737        0          167        5.02         707        70.43          0   \n",
      "3529        0          343        4.70         727        10.17          0   \n",
      "...       ...          ...         ...         ...          ...        ...   \n",
      "4078        1          856        5.07         712        26.44          1   \n",
      "1128        1          243        4.62         702         3.61          1   \n",
      "4549        0           73        4.60         732         1.96          0   \n",
      "6885        0          170        4.36         677         1.56          1   \n",
      "2208        0          497        5.19         752         6.08          1   \n",
      "\n",
      "      records  predicted_probability  predicted_label  will_default  \n",
      "8379        0               0.275631                0             1  \n",
      "5955        0               0.103552                0             0  \n",
      "6681        0               0.090523                0             0  \n",
      "2737        0               0.164830                0             0  \n",
      "3529        0               0.126373                0             0  \n",
      "...       ...                    ...              ...           ...  \n",
      "4078        0               0.131015                0             0  \n",
      "1128        0               0.163782                0             0  \n",
      "4549        0               0.122227                0             0  \n",
      "6885        0               0.229472                0             0  \n",
      "2208        0               0.075699                0             0  \n",
      "\n",
      "[2855 rows x 10 columns]\n"
     ]
    }
   ],
   "source": [
    "# Create a new column called \"will_default\". Play around with the predicted probability threshold. \n",
    "# A good starting threshold for a 1 flag is 25%\n",
    "#If yes assign will_default to 1, otherwise to 0\n",
    "# YOUR CODE HERE\n",
    "# Use the logistic model to predict the probability of default on the test data\n",
    "# Create the 'will_default' column\n",
    "# If the predicted probability is greater than or equal to 25%, assign 1 (default), otherwise assign 0\n",
    "df_test['will_default'] = (df_test['predicted_probability'] >= 0.25).astype(int)\n",
    "\n",
    "# Display the first 6 rows of the df_test dataframe\n",
    "df_test.head(6)\n",
    "\n",
    "print(df_test)"
   ]
  },
  {
   "cell_type": "code",
   "execution_count": null,
   "metadata": {
    "deletable": false,
    "editable": false,
    "nbgrader": {
     "checksum": "6af919d614571e4d80bc7681a2eb700b",
     "grade": true,
     "grade_id": "cell-2eaff004f82e4f3b",
     "locked": true,
     "points": 1,
     "schema_version": 1,
     "solution": false
    }
   },
   "outputs": [],
   "source": []
  },
  {
   "cell_type": "markdown",
   "metadata": {
    "deletable": false,
    "editable": false,
    "nbgrader": {
     "checksum": "032deba50be1caf31270d4bf4ab2b133",
     "grade": false,
     "grade_id": "cell-7fd144a74512e8b1",
     "locked": true,
     "schema_version": 1,
     "solution": false
    }
   },
   "source": [
    "###### Create a confusion matrix so you can observe your model's performance on the test data. It should be examining predicted vs actual default values (will_default vs default). "
   ]
  },
  {
   "cell_type": "code",
   "execution_count": 31,
   "metadata": {
    "deletable": false,
    "nbgrader": {
     "checksum": "d59cdc3129c515e9c57d115b452ce11f",
     "grade": false,
     "grade_id": "cell-845f67a5e5829007",
     "locked": false,
     "schema_version": 1,
     "solution": true
    }
   },
   "outputs": [
    {
     "name": "stdout",
     "output_type": "stream",
     "text": [
      "[[2394    1]\n",
      " [ 459    1]]\n",
      "[[2394    1]\n",
      " [ 459    1]]\n"
     ]
    }
   ],
   "source": [
    "# Create a confusion matrix displaying actual vs predicted values. \n",
    "# Assign the output to \"matrix\"\n",
    "# YOUR CODE HERE\n",
    "from sklearn.metrics import confusion_matrix\n",
    "\n",
    "# Create predicted labels (0 or 1) based on a probability threshold (e.g., 0.5)\n",
    "df_test['predicted_label'] = (df_test['predicted_probability'] >= 0.5).astype(int)\n",
    "\n",
    "# Generate the confusion matrix\n",
    "matrix = confusion_matrix(df_test['default'], df_test['predicted_label'])\n",
    "\n",
    "# Display the confusion matrix\n",
    "print(matrix)\n",
    "print(matrix)"
   ]
  },
  {
   "cell_type": "code",
   "execution_count": null,
   "metadata": {
    "deletable": false,
    "editable": false,
    "nbgrader": {
     "checksum": "b7bccce22c8660ed47989ff637e4284d",
     "grade": true,
     "grade_id": "cell-8a563937d340dcdb",
     "locked": true,
     "points": 2,
     "schema_version": 1,
     "solution": false
    }
   },
   "outputs": [],
   "source": []
  },
  {
   "cell_type": "markdown",
   "metadata": {
    "deletable": false,
    "editable": false,
    "nbgrader": {
     "checksum": "1756b470bbc3218576db7aeec8596c99",
     "grade": false,
     "grade_id": "cell-2c91742fcb8b2606",
     "locked": true,
     "schema_version": 1,
     "solution": false
    }
   },
   "source": [
    "###### Execute the follwoing cells to view a heatmap of the confusion matrix and accuracy of your model. Use these to answer the follow-up questions for the assignment."
   ]
  },
  {
   "cell_type": "code",
   "execution_count": 32,
   "metadata": {
    "deletable": false,
    "editable": false,
    "nbgrader": {
     "checksum": "282d152762b23bde92d34929a947f420",
     "grade": false,
     "grade_id": "cell-dc4546b718fdd002",
     "locked": true,
     "schema_version": 1,
     "solution": false
    }
   },
   "outputs": [
    {
     "data": {
      "text/plain": [
       "<matplotlib.axes._subplots.AxesSubplot at 0x73d4fce43400>"
      ]
     },
     "execution_count": 32,
     "metadata": {},
     "output_type": "execute_result"
    },
    {
     "data": {
      "image/png": "[encoded data removed]",
      "text/plain": [
       "<Figure size 432x288 with 2 Axes>"
      ]
     },
     "metadata": {
      "needs_background": "light"
     },
     "output_type": "display_data"
    }
   ],
   "source": [
    "sns.heatmap(matrix/np.sum(matrix), annot=True, \n",
    "            fmt='.2%', cmap='Blues')"
   ]
  },
  {
   "cell_type": "code",
   "execution_count": 33,
   "metadata": {
    "deletable": false,
    "editable": false,
    "nbgrader": {
     "checksum": "1b68a1f403803ce5826665795c240a14",
     "grade": false,
     "grade_id": "cell-5d9cfa846974e64b",
     "locked": true,
     "schema_version": 1,
     "solution": false
    }
   },
   "outputs": [
    {
     "data": {
      "text/plain": [
       "<matplotlib.axes._subplots.AxesSubplot at 0x73d4fccedc18>"
      ]
     },
     "execution_count": 33,
     "metadata": {},
     "output_type": "execute_result"
    },
    {
     "data": {
      "image/png": "[encoded data removed]",
      "text/plain": [
       "<Figure size 432x288 with 2 Axes>"
      ]
     },
     "metadata": {
      "needs_background": "light"
     },
     "output_type": "display_data"
    }
   ],
   "source": [
    "labels = [\"True Neg\",\"False Pos\",\"False Neg\",\"True Pos\"]\n",
    "labels = np.asarray(labels).reshape(2,2)\n",
    "sns.heatmap(matrix, annot=labels, fmt=\"\", cmap='Blues')"
   ]
  },
  {
   "cell_type": "markdown",
   "metadata": {
    "deletable": false,
    "editable": false,
    "nbgrader": {
     "checksum": "276e4b487ba05125bb37c8157fe0b071",
     "grade": false,
     "grade_id": "cell-d65c592264dd34d0",
     "locked": true,
     "schema_version": 1,
     "solution": false
    }
   },
   "source": [
    "###### Finally, observe the accuracy of the model. "
   ]
  },
  {
   "cell_type": "code",
   "execution_count": 34,
   "metadata": {
    "deletable": false,
    "editable": false,
    "nbgrader": {
     "checksum": "acaa56e8234781001b18e704c4f3239d",
     "grade": false,
     "grade_id": "cell-bb57ca615f351565",
     "locked": true,
     "schema_version": 1,
     "solution": false
    }
   },
   "outputs": [
    {
     "name": "stdout",
     "output_type": "stream",
     "text": [
      "Accuracy:0.8178633975481612\n"
     ]
    }
   ],
   "source": [
    "\n",
    "print('Accuracy:'+str(accuracy_score(df_test['default'], df_test['will_default'])))"
   ]
  },
  {
   "cell_type": "code",
   "execution_count": null,
   "metadata": {},
   "outputs": [],
   "source": []
  }
 ],
 "metadata": {
  "kernelspec": {
   "display_name": "Python 3",
   "language": "python",
   "name": "python3"
  },
  "language_info": {
   "codemirror_mode": {
    "name": "ipython",
    "version": 3
   },
   "file_extension": ".py",
   "mimetype": "text/x-python",
   "name": "python",
   "nbconvert_exporter": "python",
   "pygments_lexer": "ipython3",
   "version": "3.6.9"
  }
 },
 "nbformat": 4,
 "nbformat_minor": 2
}
